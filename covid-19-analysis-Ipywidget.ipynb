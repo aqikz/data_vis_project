{
 "cells": [
  {
   "cell_type": "markdown",
   "metadata": {},
   "source": [
    "Data soruce -> https://github.com/CSSEGISandData/COVID-19"
   ]
  },
  {
   "cell_type": "code",
   "execution_count": 2,
   "metadata": {},
   "outputs": [],
   "source": [
    "import os"
   ]
  },
  {
   "cell_type": "code",
   "execution_count": 3,
   "metadata": {},
   "outputs": [],
   "source": [
    "import pandas as pd\n",
    "import numpy as np\n",
    "from datetime import datetime\n",
    "\n",
    "import plotly.graph_objects as go\n",
    "import plotly.express as px\n",
    "from ipywidgets import interact, widgets\n",
    "\n",
    "from scipy.interpolate import interp1d\n",
    "\n",
    "# increasing the row height\n",
    "#pd.set_option('max_row', 200)"
   ]
  },
  {
   "cell_type": "code",
   "execution_count": 4,
   "metadata": {},
   "outputs": [],
   "source": [
    "# loading the dataset\n",
    "\n",
    "death_df = pd.read_csv('https://raw.githubusercontent.com/CSSEGISandData/COVID-19/master/csse_covid_19_data/csse_covid_19_time_series/time_series_covid19_deaths_global.csv')\n",
    "confirmed_df = pd.read_csv('https://raw.githubusercontent.com/CSSEGISandData/COVID-19/master/csse_covid_19_data/csse_covid_19_time_series/time_series_covid19_confirmed_global.csv')\n",
    "recovered_df = pd.read_csv('https://raw.githubusercontent.com/CSSEGISandData/COVID-19/master/csse_covid_19_data/csse_covid_19_time_series/time_series_covid19_recovered_global.csv')\n",
    "country_df = pd.read_csv('https://raw.githubusercontent.com/CSSEGISandData/COVID-19/web-data/data/cases_country.csv')"
   ]
  },
  {
   "cell_type": "code",
   "execution_count": 5,
   "metadata": {},
   "outputs": [],
   "source": [
    "# saving the data in my local as a csv\n",
    "\n",
    "death_df.to_csv('death.csv', index=False)\n",
    "confirmed_df.to_csv('confirmed.csv', index=False)\n",
    "recovered_df.to_csv('recovered.csv', index=False)\n",
    "country_df.to_csv('country.csv', index=False)"
   ]
  },
  {
   "cell_type": "code",
   "execution_count": 6,
   "metadata": {},
   "outputs": [
    {
     "name": "stdout",
     "output_type": "stream",
     "text": [
      "The Shape of death_df is:  (267, 277)\n",
      "The Shape of confirmed_df is:  (267, 277)\n",
      "The Shape of recovered_df is:  (254, 277)\n",
      "The Shape of country_df is:  (189, 14)\n"
     ]
    }
   ],
   "source": [
    "# printing the shape of each dataframe\n",
    "\n",
    "print(\"The Shape of death_df is: \", death_df.shape)\n",
    "print(\"The Shape of confirmed_df is: \", confirmed_df.shape)\n",
    "print(\"The Shape of recovered_df is: \", recovered_df.shape)\n",
    "print(\"The Shape of country_df is: \", country_df.shape)"
   ]
  },
  {
   "cell_type": "code",
   "execution_count": 7,
   "metadata": {},
   "outputs": [
    {
     "name": "stdout",
     "output_type": "stream",
     "text": [
      "Province/State    186\n",
      "Country/Region      0\n",
      "dtype: int64\n",
      "Country_Region           0\n",
      "Last_Update              0\n",
      "Lat                      2\n",
      "Long_                    2\n",
      "Confirmed                0\n",
      "Deaths                   0\n",
      "Recovered                4\n",
      "Active                   0\n",
      "Incident_Rate            2\n",
      "People_Tested          189\n",
      "People_Hospitalized    189\n",
      "Mortality_Rate           0\n",
      "UID                      0\n",
      "ISO3                     2\n",
      "dtype: int64\n"
     ]
    }
   ],
   "source": [
    "# checking for null values\n",
    "print(death_df.isnull().sum().head(2))\n",
    "print(country_df.isnull().sum())\n",
    "# column Province/State   contaim 185 null values, hence we will drop this columns"
   ]
  },
  {
   "cell_type": "code",
   "execution_count": 8,
   "metadata": {},
   "outputs": [],
   "source": [
    "# droping the 'Province/State' columns as it containd null values\n",
    "\n",
    "death_df.drop('Province/State', axis=1, inplace=True)\n",
    "confirmed_df.drop('Province/State', axis=1, inplace=True)\n",
    "recovered_df.drop('Province/State', axis=1, inplace=True)\n",
    "country_df.drop(['People_Tested', 'People_Hospitalized'], axis=1, inplace=True)"
   ]
  },
  {
   "cell_type": "code",
   "execution_count": 9,
   "metadata": {},
   "outputs": [
    {
     "data": {
      "text/html": [
       "<div>\n",
       "<style scoped>\n",
       "    .dataframe tbody tr th:only-of-type {\n",
       "        vertical-align: middle;\n",
       "    }\n",
       "\n",
       "    .dataframe tbody tr th {\n",
       "        vertical-align: top;\n",
       "    }\n",
       "\n",
       "    .dataframe thead th {\n",
       "        text-align: right;\n",
       "    }\n",
       "</style>\n",
       "<table border=\"1\" class=\"dataframe\">\n",
       "  <thead>\n",
       "    <tr style=\"text-align: right;\">\n",
       "      <th></th>\n",
       "      <th>Country</th>\n",
       "      <th>Lat</th>\n",
       "      <th>Long</th>\n",
       "      <th>1/22/20</th>\n",
       "      <th>1/23/20</th>\n",
       "      <th>1/24/20</th>\n",
       "      <th>1/25/20</th>\n",
       "      <th>1/26/20</th>\n",
       "      <th>1/27/20</th>\n",
       "      <th>1/28/20</th>\n",
       "      <th>...</th>\n",
       "      <th>10/11/20</th>\n",
       "      <th>10/12/20</th>\n",
       "      <th>10/13/20</th>\n",
       "      <th>10/14/20</th>\n",
       "      <th>10/15/20</th>\n",
       "      <th>10/16/20</th>\n",
       "      <th>10/17/20</th>\n",
       "      <th>10/18/20</th>\n",
       "      <th>10/19/20</th>\n",
       "      <th>10/20/20</th>\n",
       "    </tr>\n",
       "  </thead>\n",
       "  <tbody>\n",
       "    <tr>\n",
       "      <th>0</th>\n",
       "      <td>Afghanistan</td>\n",
       "      <td>33.93911</td>\n",
       "      <td>67.709953</td>\n",
       "      <td>0</td>\n",
       "      <td>0</td>\n",
       "      <td>0</td>\n",
       "      <td>0</td>\n",
       "      <td>0</td>\n",
       "      <td>0</td>\n",
       "      <td>0</td>\n",
       "      <td>...</td>\n",
       "      <td>1477</td>\n",
       "      <td>1479</td>\n",
       "      <td>1480</td>\n",
       "      <td>1481</td>\n",
       "      <td>1481</td>\n",
       "      <td>1485</td>\n",
       "      <td>1488</td>\n",
       "      <td>1492</td>\n",
       "      <td>1497</td>\n",
       "      <td>1499</td>\n",
       "    </tr>\n",
       "    <tr>\n",
       "      <th>1</th>\n",
       "      <td>Albania</td>\n",
       "      <td>41.15330</td>\n",
       "      <td>20.168300</td>\n",
       "      <td>0</td>\n",
       "      <td>0</td>\n",
       "      <td>0</td>\n",
       "      <td>0</td>\n",
       "      <td>0</td>\n",
       "      <td>0</td>\n",
       "      <td>0</td>\n",
       "      <td>...</td>\n",
       "      <td>420</td>\n",
       "      <td>424</td>\n",
       "      <td>429</td>\n",
       "      <td>434</td>\n",
       "      <td>439</td>\n",
       "      <td>443</td>\n",
       "      <td>448</td>\n",
       "      <td>451</td>\n",
       "      <td>454</td>\n",
       "      <td>458</td>\n",
       "    </tr>\n",
       "    <tr>\n",
       "      <th>2</th>\n",
       "      <td>Algeria</td>\n",
       "      <td>28.03390</td>\n",
       "      <td>1.659600</td>\n",
       "      <td>0</td>\n",
       "      <td>0</td>\n",
       "      <td>0</td>\n",
       "      <td>0</td>\n",
       "      <td>0</td>\n",
       "      <td>0</td>\n",
       "      <td>0</td>\n",
       "      <td>...</td>\n",
       "      <td>1801</td>\n",
       "      <td>1809</td>\n",
       "      <td>1818</td>\n",
       "      <td>1827</td>\n",
       "      <td>1827</td>\n",
       "      <td>1841</td>\n",
       "      <td>1846</td>\n",
       "      <td>1856</td>\n",
       "      <td>1865</td>\n",
       "      <td>1873</td>\n",
       "    </tr>\n",
       "  </tbody>\n",
       "</table>\n",
       "<p>3 rows × 276 columns</p>\n",
       "</div>"
      ],
      "text/plain": [
       "       Country       Lat       Long  1/22/20  1/23/20  1/24/20  1/25/20  \\\n",
       "0  Afghanistan  33.93911  67.709953        0        0        0        0   \n",
       "1      Albania  41.15330  20.168300        0        0        0        0   \n",
       "2      Algeria  28.03390   1.659600        0        0        0        0   \n",
       "\n",
       "   1/26/20  1/27/20  1/28/20  ...  10/11/20  10/12/20  10/13/20  10/14/20  \\\n",
       "0        0        0        0  ...      1477      1479      1480      1481   \n",
       "1        0        0        0  ...       420       424       429       434   \n",
       "2        0        0        0  ...      1801      1809      1818      1827   \n",
       "\n",
       "   10/15/20  10/16/20  10/17/20  10/18/20  10/19/20  10/20/20  \n",
       "0      1481      1485      1488      1492      1497      1499  \n",
       "1       439       443       448       451       454       458  \n",
       "2      1827      1841      1846      1856      1865      1873  \n",
       "\n",
       "[3 rows x 276 columns]"
      ]
     },
     "execution_count": 9,
     "metadata": {},
     "output_type": "execute_result"
    }
   ],
   "source": [
    "# renaming column\n",
    "\n",
    "death_df.rename(columns={'Country/Region': 'Country'}, inplace=True)\n",
    "confirmed_df.rename(columns={'Country/Region': 'Country'}, inplace=True)\n",
    "recovered_df.rename(columns={'Country/Region': 'Country'}, inplace=True)\n",
    "country_df.rename(columns={'Country_Region': 'Country', 'Long_': 'Long'}, inplace=True)\n",
    "\n",
    "death_df.head(3)"
   ]
  },
  {
   "cell_type": "code",
   "execution_count": 10,
   "metadata": {},
   "outputs": [],
   "source": [
    "# un-pivot the dataframe\n",
    "\n",
    "death_df2 = pd.melt(death_df, id_vars=['Country', 'Lat', 'Long', ], var_name='Date', value_name='Death_no')\n",
    "confirmed_df2 = pd.melt(confirmed_df, id_vars=['Country', 'Lat', 'Long', ], var_name='Date', value_name='Confirmed_no')\n",
    "recovered_df2 = pd.melt(recovered_df, id_vars=['Country', 'Lat', 'Long', ], var_name='Date', value_name='Recovered_no')"
   ]
  },
  {
   "cell_type": "code",
   "execution_count": 11,
   "metadata": {},
   "outputs": [
    {
     "data": {
      "text/html": [
       "<div>\n",
       "<style scoped>\n",
       "    .dataframe tbody tr th:only-of-type {\n",
       "        vertical-align: middle;\n",
       "    }\n",
       "\n",
       "    .dataframe tbody tr th {\n",
       "        vertical-align: top;\n",
       "    }\n",
       "\n",
       "    .dataframe thead th {\n",
       "        text-align: right;\n",
       "    }\n",
       "</style>\n",
       "<table border=\"1\" class=\"dataframe\">\n",
       "  <thead>\n",
       "    <tr style=\"text-align: right;\">\n",
       "      <th></th>\n",
       "      <th>Country</th>\n",
       "      <th>Lat</th>\n",
       "      <th>Long</th>\n",
       "      <th>Date</th>\n",
       "      <th>Confirmed_no</th>\n",
       "    </tr>\n",
       "  </thead>\n",
       "  <tbody>\n",
       "    <tr>\n",
       "      <th>0</th>\n",
       "      <td>Afghanistan</td>\n",
       "      <td>33.93911</td>\n",
       "      <td>67.709953</td>\n",
       "      <td>1/22/20</td>\n",
       "      <td>0</td>\n",
       "    </tr>\n",
       "    <tr>\n",
       "      <th>1</th>\n",
       "      <td>Albania</td>\n",
       "      <td>41.15330</td>\n",
       "      <td>20.168300</td>\n",
       "      <td>1/22/20</td>\n",
       "      <td>0</td>\n",
       "    </tr>\n",
       "    <tr>\n",
       "      <th>2</th>\n",
       "      <td>Algeria</td>\n",
       "      <td>28.03390</td>\n",
       "      <td>1.659600</td>\n",
       "      <td>1/22/20</td>\n",
       "      <td>0</td>\n",
       "    </tr>\n",
       "    <tr>\n",
       "      <th>3</th>\n",
       "      <td>Andorra</td>\n",
       "      <td>42.50630</td>\n",
       "      <td>1.521800</td>\n",
       "      <td>1/22/20</td>\n",
       "      <td>0</td>\n",
       "    </tr>\n",
       "    <tr>\n",
       "      <th>4</th>\n",
       "      <td>Angola</td>\n",
       "      <td>-11.20270</td>\n",
       "      <td>17.873900</td>\n",
       "      <td>1/22/20</td>\n",
       "      <td>0</td>\n",
       "    </tr>\n",
       "  </tbody>\n",
       "</table>\n",
       "</div>"
      ],
      "text/plain": [
       "       Country       Lat       Long     Date  Confirmed_no\n",
       "0  Afghanistan  33.93911  67.709953  1/22/20             0\n",
       "1      Albania  41.15330  20.168300  1/22/20             0\n",
       "2      Algeria  28.03390   1.659600  1/22/20             0\n",
       "3      Andorra  42.50630   1.521800  1/22/20             0\n",
       "4       Angola -11.20270  17.873900  1/22/20             0"
      ]
     },
     "execution_count": 11,
     "metadata": {},
     "output_type": "execute_result"
    }
   ],
   "source": [
    "confirmed_df2.head()"
   ]
  },
  {
   "cell_type": "code",
   "execution_count": 12,
   "metadata": {},
   "outputs": [],
   "source": [
    "# change the date to datetype\n",
    "\n",
    "death_df2['Date'] = pd.to_datetime(death_df2['Date'])\n",
    "confirmed_df2['Date'] = pd.to_datetime(confirmed_df2['Date'])\n",
    "recovered_df2['Date'] = pd.to_datetime(confirmed_df2['Date'])"
   ]
  },
  {
   "cell_type": "code",
   "execution_count": null,
   "metadata": {},
   "outputs": [],
   "source": []
  },
  {
   "cell_type": "code",
   "execution_count": 13,
   "metadata": {},
   "outputs": [],
   "source": [
    "# sorting country_df with highest confirm rate\n",
    "country_df.sort_values('Confirmed', ascending=False, inplace=True)"
   ]
  },
  {
   "cell_type": "code",
   "execution_count": 14,
   "metadata": {},
   "outputs": [
    {
     "data": {
      "text/plain": [
       "Country     0\n",
       "Lat         0\n",
       "Long        0\n",
       "Date        0\n",
       "Death_no    0\n",
       "dtype: int64"
      ]
     },
     "execution_count": 14,
     "metadata": {},
     "output_type": "execute_result"
    }
   ],
   "source": [
    "# checking for missing values\n",
    "\n",
    "death_df2.isna().sum()"
   ]
  },
  {
   "cell_type": "code",
   "execution_count": 15,
   "metadata": {},
   "outputs": [
    {
     "data": {
      "text/html": [
       "<div>\n",
       "<style scoped>\n",
       "    .dataframe tbody tr th:only-of-type {\n",
       "        vertical-align: middle;\n",
       "    }\n",
       "\n",
       "    .dataframe tbody tr th {\n",
       "        vertical-align: top;\n",
       "    }\n",
       "\n",
       "    .dataframe thead th {\n",
       "        text-align: right;\n",
       "    }\n",
       "</style>\n",
       "<table border=\"1\" class=\"dataframe\">\n",
       "  <thead>\n",
       "    <tr style=\"text-align: right;\">\n",
       "      <th></th>\n",
       "      <th>Country</th>\n",
       "      <th>Lat</th>\n",
       "      <th>Long</th>\n",
       "      <th>Date</th>\n",
       "      <th>Death_no</th>\n",
       "    </tr>\n",
       "  </thead>\n",
       "  <tbody>\n",
       "    <tr>\n",
       "      <th>0</th>\n",
       "      <td>Afghanistan</td>\n",
       "      <td>33.93911</td>\n",
       "      <td>67.709953</td>\n",
       "      <td>2020-01-22</td>\n",
       "      <td>0</td>\n",
       "    </tr>\n",
       "    <tr>\n",
       "      <th>1</th>\n",
       "      <td>Albania</td>\n",
       "      <td>41.15330</td>\n",
       "      <td>20.168300</td>\n",
       "      <td>2020-01-22</td>\n",
       "      <td>0</td>\n",
       "    </tr>\n",
       "    <tr>\n",
       "      <th>2</th>\n",
       "      <td>Algeria</td>\n",
       "      <td>28.03390</td>\n",
       "      <td>1.659600</td>\n",
       "      <td>2020-01-22</td>\n",
       "      <td>0</td>\n",
       "    </tr>\n",
       "    <tr>\n",
       "      <th>3</th>\n",
       "      <td>Andorra</td>\n",
       "      <td>42.50630</td>\n",
       "      <td>1.521800</td>\n",
       "      <td>2020-01-22</td>\n",
       "      <td>0</td>\n",
       "    </tr>\n",
       "    <tr>\n",
       "      <th>4</th>\n",
       "      <td>Angola</td>\n",
       "      <td>-11.20270</td>\n",
       "      <td>17.873900</td>\n",
       "      <td>2020-01-22</td>\n",
       "      <td>0</td>\n",
       "    </tr>\n",
       "  </tbody>\n",
       "</table>\n",
       "</div>"
      ],
      "text/plain": [
       "       Country       Lat       Long       Date  Death_no\n",
       "0  Afghanistan  33.93911  67.709953 2020-01-22         0\n",
       "1      Albania  41.15330  20.168300 2020-01-22         0\n",
       "2      Algeria  28.03390   1.659600 2020-01-22         0\n",
       "3      Andorra  42.50630   1.521800 2020-01-22         0\n",
       "4       Angola -11.20270  17.873900 2020-01-22         0"
      ]
     },
     "execution_count": 15,
     "metadata": {},
     "output_type": "execute_result"
    }
   ],
   "source": [
    "# checking the first five rows of the columns\n",
    "\n",
    "death_df2.head()"
   ]
  },
  {
   "cell_type": "code",
   "execution_count": null,
   "metadata": {},
   "outputs": [],
   "source": []
  },
  {
   "cell_type": "markdown",
   "metadata": {},
   "source": [
    "# Daily COVID-19 case report "
   ]
  },
  {
   "cell_type": "code",
   "execution_count": 16,
   "metadata": {},
   "outputs": [],
   "source": [
    "# group by country and show data\n",
    "\n",
    "def country_wise(country_name,df_type, number):\n",
    "    # on select of category copy the dataframe to group by country\n",
    "    if df_type == 'Confirmed cases':\n",
    "        df_type = confirmed_df.copy(deep=True)\n",
    "        category = 'COVID-19 confirmed cases'\n",
    "        \n",
    "    elif df_type == 'Death rate':\n",
    "        df_type = death_df.copy(deep=True)\n",
    "        category = 'COVID-19 Death rate'\n",
    "        \n",
    "    else:\n",
    "        df_type = recovered_df.copy(deep=True)\n",
    "        category = 'COVID-19 recovered cases'\n",
    "        \n",
    "    \n",
    "    # group by country name\n",
    "    country = df_type.groupby('Country')\n",
    "    \n",
    "    # select the given country\n",
    "    country = country.get_group(country_name)\n",
    "    \n",
    "    # store daily death rate along with the date\n",
    "    daily_cases = []\n",
    "    case_date = []\n",
    "    \n",
    "    # iterate over each row\n",
    "    for i, cols in enumerate(country):\n",
    "        if i > 3:\n",
    "            # take the sum of each column if there are multiple columns\n",
    "            daily_cases.append(country[cols].sum())\n",
    "            case_date.append(cols)\n",
    "            zip_all_list = zip(case_date, daily_cases)\n",
    "            \n",
    "            # creata a data frame\n",
    "            new_df = pd.DataFrame(data = zip_all_list, columns=['Date','coronavirus'])\n",
    "\n",
    "    # append the country to the data frame\n",
    "    new_df['Country'] = country['Country'].values[0]\n",
    "    \n",
    "    # get the daily death rate\n",
    "    new_df = get_daily_date(new_df)\n",
    "      \n",
    "    # ploting the graph\n",
    "    fig = px.line(new_df.iloc[-number:] ,\n",
    "                  x='Date', y='coronavirus',\n",
    "                  title='Daily ' + category +'  in ' + new_df['Country'].values[0])\n",
    "    fig.update_layout(title_font_size=26,height=450)\n",
    "    fig.show()\n",
    "\n",
    "    return"
   ]
  },
  {
   "cell_type": "code",
   "execution_count": 17,
   "metadata": {},
   "outputs": [],
   "source": [
    "# give the daily recovered case, death no, comfired cases\n",
    "def get_daily_date(new_df):\n",
    "    # calculation to get the no of death,recoverd, comfirmed cases for each day,\n",
    "    # because each day new cases are added with the previous day cases in the csv\n",
    "    new_df2 = new_df.copy(deep=True)\n",
    "    for i in range(len(new_df) -1):\n",
    "        new_df.iloc[i+1, 1] = new_df.iloc[1+i, 1] - new_df2.iloc[i, 1]\n",
    "        if new_df.iloc[i+1, 1] < 0:\n",
    "            new_df.iloc[i+1, 1] = 0\n",
    "    return new_df"
   ]
  },
  {
   "cell_type": "code",
   "execution_count": 18,
   "metadata": {},
   "outputs": [
    {
     "data": {
      "application/vnd.jupyter.widget-view+json": {
       "model_id": "555cbcaaab0a4ea586c1779385eef069",
       "version_major": 2,
       "version_minor": 0
      },
      "text/plain": [
       "interactive(children=(Dropdown(description='Country', index=79, options=('Afghanistan', 'Albania', 'Algeria', …"
      ]
     },
     "metadata": {},
     "output_type": "display_data"
    }
   ],
   "source": [
    "# select the country from the dropdown \n",
    "my_df_type = ['Confirmed cases', 'Death rate', 'Recovered cases']\n",
    "drop_down = widgets.Dropdown(options=confirmed_df['Country'].unique().tolist(),\n",
    "                                value='India',\n",
    "                                description='Country',\n",
    "                                disabled=False)\n",
    "\n",
    "\n",
    "# slider to choose the number of days data to show\n",
    "slider = widgets.IntSlider(value=40,\n",
    "                              min=10,\n",
    "                              max=len(death_df.columns[3:]),\n",
    "                              step=1,\n",
    "                              description='Select Days:',\n",
    "                              disabled=False,\n",
    "                              continuous_update=False,\n",
    "                              orientation='horizontal',\n",
    "                              readout=True,\n",
    "                              readout_format='d')\n",
    "\n",
    "# select the category \n",
    "category_drop_down = widgets.Dropdown(options=my_df_type,\n",
    "                                value='Confirmed cases',\n",
    "                                description='Category',\n",
    "                                disabled=False)\n",
    "\n",
    "# call the method on select or slide occour\n",
    "interact(country_wise, country_name=drop_down, df_type=category_drop_down, number=slider);\n",
    "\n",
    "\n"
   ]
  },
  {
   "cell_type": "markdown",
   "metadata": {},
   "source": [
    "# Top 10 Effected countries with COVID-19"
   ]
  },
  {
   "cell_type": "code",
   "execution_count": 19,
   "metadata": {},
   "outputs": [],
   "source": [
    "# method to get the top 10 countries\n",
    "\n",
    "def top_ten(number, sort_by):\n",
    "    # sorting the columns with top death rate\n",
    "    country_df.sort_values(by=sort_by, ascending=False, inplace=True)\n",
    "\n",
    "    # sort country with highest number of cases\n",
    "    fig = px.bar(country_df.head(number),\n",
    "        x = \"Country\",\n",
    "        y = sort_by,\n",
    "        title= 'Top ' + str(number) +' Country - ' + sort_by + ' case',\n",
    "        color=\"Country\",\n",
    "        height=500\n",
    "    )\n",
    "    fig.update_layout(title_font_size=26, height=550)\n",
    "    \n",
    "    return fig"
   ]
  },
  {
   "cell_type": "markdown",
   "metadata": {},
   "source": []
  },
  {
   "cell_type": "code",
   "execution_count": 20,
   "metadata": {},
   "outputs": [
    {
     "data": {
      "application/vnd.jupyter.widget-view+json": {
       "model_id": "7ffaa5f0386a489ba5c02b2c63c6b12a",
       "version_major": 2,
       "version_minor": 0
      },
      "text/plain": [
       "interactive(children=(Dropdown(description='No Country', index=9, options=(1, 2, 3, 4, 5, 6, 7, 8, 9, 10, 11, …"
      ]
     },
     "metadata": {},
     "output_type": "display_data"
    }
   ],
   "source": [
    "# dropdown to select no of country and category\n",
    "\n",
    "drop_down = widgets.Dropdown(options=list(range(1,31)),\n",
    "                                value=10,\n",
    "                                description='No Country',\n",
    "                                disabled=False)\n",
    "\n",
    "desc = widgets.Dropdown(options=country_df.loc[0:, ['Confirmed', 'Active', 'Deaths', 'Recovered', 'Mortality_Rate']].columns.tolist(),\n",
    "                        value='Confirmed',\n",
    "                        description='Category',\n",
    "                        disabled=False)\n",
    "\n",
    "\n",
    "interact(top_ten, number=drop_down, sort_by=desc);"
   ]
  },
  {
   "cell_type": "markdown",
   "metadata": {},
   "source": [
    "# Global view"
   ]
  },
  {
   "cell_type": "code",
   "execution_count": 21,
   "metadata": {},
   "outputs": [
    {
     "data": {
      "application/vnd.plotly.v1+json": {
       "config": {
        "plotlyServerURL": "https://plot.ly"
       },
       "data": [
        {
         "customdata": [
          [
           8275249,
           221083,
           3295148
          ],
          [
           7651107,
           115914,
           6795103
          ],
          [
           5273954,
           154837,
           4526393
          ],
          [
           1438219,
           24786,
           1091264
          ],
          [
           1018999,
           27100,
           829647
          ],
          [
           988322,
           34210,
           150376
          ],
          [
           974139,
           29272,
           876731
          ],
          [
           973275,
           33928,
           110515
          ],
          [
           874118,
           33875,
           788494
          ],
          [
           860714,
           86893,
           730594
          ],
          [
           765500,
           44057,
           2636
          ],
          [
           706304,
           18656,
           639568
          ],
          [
           545286,
           31346,
           438709
          ],
          [
           494478,
           13702,
           466643
          ],
          [
           438265,
           10418,
           369010
          ],
          [
           434449,
           36705,
           255005
          ],
          [
           393131,
           5723,
           308845
          ],
          [
           385907,
           9883,
           301394
          ],
          [
           373109,
           12857,
           297509
          ],
          [
           362243,
           6747,
           311506
          ],
          [
           351413,
           9445,
           306939
          ],
          [
           343373,
           5235,
           329715
          ],
          [
           324942,
           6093,
           137515
          ],
          [
           324744,
           6692,
           308674
          ],
          [
           306503,
           2278,
           283205
          ],
          [
           259154,
           6933,
           5327
          ],
          [
           240159,
           10489,
           21476
          ],
          [
           206349,
           9849,
           174514
          ],
          [
           202579,
           3851,
           98884
          ],
          [
           193946,
           1619,
           79108
          ],
          [
           191102,
           6065,
           137835
          ],
          [
           179003,
           3027,
           148838
          ],
          [
           154115,
           12404,
           134187
          ],
          [
           144872,
           791,
           99605
          ],
          [
           140037,
           8526,
           105526
          ],
          [
           129944,
           224,
           126866
          ],
          [
           125739,
           2585,
           102028
          ],
          [
           121973,
           2204,
           99271
          ],
          [
           119132,
           472,
           111814
          ],
          [
           118531,
           721,
           109916
          ],
          [
           111484,
           1137,
           97367
          ],
          [
           109766,
           1796,
           105301
          ],
          [
           107355,
           5929,
           null
          ],
          [
           105705,
           6142,
           98413
          ],
          [
           103736,
           2213,
           61898
          ],
          [
           102219,
           3546,
           91604
          ],
          [
           97922,
           1222,
           60109
          ],
          [
           94511,
           1686,
           86429
          ],
          [
           91763,
           2145,
           54600
          ],
          [
           91030,
           4739,
           85884
          ],
          [
           90490,
           1371,
           43638
          ],
          [
           90232,
           2582,
           35930
          ],
          [
           88909,
           937,
           80503
          ],
          [
           87644,
           747,
           80316
          ],
          [
           78533,
           307,
           75089
          ],
          [
           69409,
           925,
           52617
          ],
          [
           68530,
           1121,
           49219
          ],
          [
           67958,
           1617,
           49083
          ],
          [
           64336,
           531,
           29498
          ],
          [
           64010,
           534,
           61068
          ],
          [
           61630,
           1125,
           56797
          ],
          [
           57933,
           28,
           57819
          ],
          [
           56073,
           1231,
           37167
          ],
          [
           54829,
           1873,
           38346
          ],
          [
           53459,
           1118,
           46444
          ],
          [
           52256,
           1865,
           23364
          ],
          [
           51625,
           765,
           28440
          ],
          [
           50180,
           1259,
           14905
          ],
          [
           48129,
           421,
           41455
          ],
          [
           47461,
           312,
           46752
          ],
          [
           46593,
           642,
           40448
          ],
          [
           45647,
           842,
           32522
          ],
          [
           44450,
           711,
           5032
          ],
          [
           40972,
           414,
           7123
          ],
          [
           40510,
           1501,
           33824
          ],
          [
           38502,
           945,
           18874
          ],
          [
           37507,
           690,
           30920
          ],
          [
           37120,
           780,
           null
          ],
          [
           36315,
           1031,
           25779
          ],
          [
           33602,
           98,
           8404
          ],
          [
           32120,
           933,
           27670
          ],
          [
           31863,
           1019,
           17414
          ],
          [
           28287,
           393,
           21435
          ],
          [
           27444,
           905,
           25147
          ],
          [
           26469,
           528,
           1347
          ],
          [
           25424,
           450,
           23584
          ],
          [
           24196,
           850,
           17673
          ],
          [
           22957,
           199,
           14931
          ],
          [
           21570,
           425,
           20117
          ],
          [
           21208,
           172,
           9003
          ],
          [
           20342,
           121,
           20044
          ],
          [
           17651,
           458,
           10225
          ],
          [
           17009,
           656,
           14711
          ],
          [
           16810,
           238,
           16215
          ],
          [
           16772,
           279,
           11863
          ],
          [
           16000,
           346,
           15168
          ],
          [
           15982,
           200,
           6922
          ],
          [
           15892,
           247,
           11581
          ],
          [
           15484,
           321,
           13975
          ],
          [
           14071,
           355,
           9800
          ],
          [
           13724,
           836,
           6764
          ],
          [
           12367,
           132,
           10528
          ],
          [
           11538,
           70,
           10447
          ],
          [
           11271,
           37,
           10234
          ],
          [
           11241,
           136,
           8472
          ],
          [
           11190,
           78,
           9007
          ],
          [
           11066,
           303,
           10362
          ],
          [
           10933,
           98,
           7154
          ],
          [
           10574,
           80,
           9617
          ],
          [
           8976,
           231,
           7303
          ],
          [
           8884,
           54,
           8452
          ],
          [
           8374,
           174,
           4002
          ],
          [
           8239,
           120,
           3599
          ],
          [
           8187,
           233,
           7692
          ],
          [
           8049,
           251,
           3037
          ],
          [
           7901,
           87,
           6792
          ],
          [
           7634,
           163,
           7359
          ],
          [
           6305,
           127,
           5806
          ],
          [
           5923,
           124,
           3525
          ],
          [
           5920,
           13,
           3501
          ],
          [
           5861,
           182,
           4757
          ],
          [
           5800,
           116,
           5437
          ],
          [
           5609,
           21,
           915
          ],
          [
           5499,
           61,
           5384
          ],
          [
           5434,
           155,
           4225
          ],
          [
           5333,
           98,
           3758
          ],
          [
           5180,
           254,
           1596
          ],
          [
           5156,
           92,
           3887
          ],
          [
           5144,
           109,
           4979
          ],
          [
           5074,
           83,
           4954
          ],
          [
           5026,
           46,
           3331
          ],
          [
           4996,
           34,
           4797
          ],
          [
           4858,
           62,
           1924
          ],
          [
           4230,
           11,
           3013
          ],
          [
           4171,
           71,
           3334
          ],
          [
           3890,
           101,
           3166
          ],
          [
           3797,
           47,
           1341
          ],
          [
           3796,
           114,
           2796
          ],
          [
           3709,
           59,
           3495
          ],
          [
           3655,
           118,
           2658
          ],
          [
           3623,
           62,
           2273
          ],
          [
           3411,
           132,
           2593
          ],
          [
           2886,
           45,
           1727
          ],
          [
           2847,
           55,
           1290
          ],
          [
           2839,
           25,
           1444
          ],
          [
           2623,
           52,
           2142
          ],
          [
           2496,
           41,
           2330
          ],
          [
           2406,
           65,
           1824
          ],
          [
           2403,
           41,
           1818
          ],
          [
           2336,
           73,
           1765
          ],
          [
           2104,
           51,
           1555
          ],
          [
           2057,
           597,
           1338
          ],
          [
           1918,
           43,
           961
          ],
          [
           1912,
           25,
           1831
          ],
          [
           1399,
           93,
           1199
          ],
          [
           1384,
           82,
           1273
          ],
          [
           1212,
           69,
           1128
          ],
          [
           1144,
           35,
           1046
          ],
          [
           933,
           15,
           898
          ],
          [
           766,
           42,
           688
          ],
          [
           712,
           13,
           659
          ],
          [
           581,
           7,
           541
          ],
          [
           550,
           1,
           497
          ],
          [
           544,
           7,
           495
          ],
          [
           509,
           21,
           183
          ],
          [
           504,
           7,
           494
          ],
          [
           452,
           0,
           388
          ],
          [
           419,
           10,
           379
          ],
          [
           331,
           0,
           302
          ],
          [
           327,
           0,
           312
          ],
          [
           286,
           0,
           280
          ],
          [
           271,
           2,
           227
          ],
          [
           252,
           1,
           145
          ],
          [
           222,
           7,
           204
          ],
          [
           149,
           0,
           148
          ],
          [
           147,
           3,
           143
          ],
          [
           122,
           3,
           101
          ],
          [
           68,
           0,
           64
          ],
          [
           37,
           0,
           27
          ],
          [
           33,
           0,
           29
          ],
          [
           33,
           2,
           30
          ],
          [
           29,
           0,
           28
          ],
          [
           27,
           0,
           24
          ],
          [
           27,
           0,
           15
          ],
          [
           24,
           0,
           22
          ],
          [
           19,
           0,
           19
          ],
          [
           10,
           1,
           8
          ],
          [
           9,
           2,
           null
          ],
          [
           3,
           0,
           null
          ]
         ],
         "hovertemplate": "<b>%{hovertext}</b><br><br>size=%{marker.size}<br>Lat=%{lat}<br>Long=%{lon}<br>Confirmed=%{customdata[0]}<br>Deaths=%{customdata[1]}<br>Recovered=%{customdata[2]}<extra></extra>",
         "hovertext": [
          "US",
          "India",
          "Brazil",
          "Russia",
          "Argentina",
          "Spain",
          "Colombia",
          "France",
          "Peru",
          "Mexico",
          "United Kingdom",
          "South Africa",
          "Iran",
          "Chile",
          "Iraq",
          "Italy",
          "Bangladesh",
          "Germany",
          "Indonesia",
          "Philippines",
          "Turkey",
          "Saudi Arabia",
          "Ukraine",
          "Pakistan",
          "Israel",
          "Netherlands",
          "Belgium",
          "Canada",
          "Poland",
          "Czechia",
          "Romania",
          "Morocco",
          "Ecuador",
          "Nepal",
          "Bolivia",
          "Qatar",
          "Panama",
          "Dominican Republic",
          "United Arab Emirates",
          "Kuwait",
          "Oman",
          "Kazakhstan",
          "Sweden",
          "Egypt",
          "Portugal",
          "Guatemala",
          "Costa Rica",
          "Japan",
          "Switzerland",
          "China",
          "Ethiopia",
          "Honduras",
          "Belarus",
          "Venezuela",
          "Bahrain",
          "Austria",
          "Armenia",
          "Moldova",
          "Lebanon",
          "Uzbekistan",
          "Nigeria",
          "Singapore",
          "Paraguay",
          "Algeria",
          "Kyrgyzstan",
          "Ireland",
          "Libya",
          "Hungary",
          "West Bank and Gaza",
          "Ghana",
          "Azerbaijan",
          "Kenya",
          "Tunisia",
          "Jordan",
          "Afghanistan",
          "Burma",
          "Denmark",
          "Serbia",
          "Bosnia and Herzegovina",
          "Slovakia",
          "El Salvador",
          "Bulgaria",
          "Croatia",
          "Australia",
          "Greece",
          "Korea, South",
          "North Macedonia",
          "Malaysia",
          "Cameroon",
          "Georgia",
          "Cote d'Ivoire",
          "Albania",
          "Kosovo",
          "Madagascar",
          "Norway",
          "Zambia",
          "Slovenia",
          "Montenegro",
          "Senegal",
          "Finland",
          "Sudan",
          "Namibia",
          "Guinea",
          "Maldives",
          "Luxembourg",
          "Mozambique",
          "Congo (Kinshasa)",
          "Uganda",
          "Tajikistan",
          "Haiti",
          "Gabon",
          "Jamaica",
          "Lithuania",
          "Zimbabwe",
          "Angola",
          "Cabo Verde",
          "Mauritania",
          "Cuba",
          "Bahamas",
          "Sri Lanka",
          "Malawi",
          "Eswatini",
          "Botswana",
          "Djibouti",
          "Nicaragua",
          "Trinidad and Tobago",
          "Syria",
          "Congo (Brazzaville)",
          "Suriname",
          "Equatorial Guinea",
          "Malta",
          "Rwanda",
          "Central African Republic",
          "Iceland",
          "Estonia",
          "Somalia",
          "Latvia",
          "Guyana",
          "Thailand",
          "Gambia",
          "Andorra",
          "Mali",
          "Belize",
          "South Sudan",
          "Cyprus",
          "Uruguay",
          "Benin",
          "Burkina Faso",
          "Guinea-Bissau",
          "Sierra Leone",
          "Togo",
          "Yemen",
          "Lesotho",
          "New Zealand",
          "Chad",
          "Liberia",
          "Niger",
          "Vietnam",
          "Sao Tome and Principe",
          "San Marino",
          "Diamond Princess",
          "Papua New Guinea",
          "Burundi",
          "Taiwan*",
          "Tanzania",
          "Comoros",
          "Eritrea",
          "Mauritius",
          "Bhutan",
          "Mongolia",
          "Cambodia",
          "Monaco",
          "Liechtenstein",
          "Barbados",
          "Seychelles",
          "Brunei",
          "Antigua and Barbuda",
          "Saint Vincent and the Grenadines",
          "Saint Lucia",
          "Dominica",
          "Fiji",
          "Timor-Leste",
          "Grenada",
          "Holy See",
          "Laos",
          "Saint Kitts and Nevis",
          "Western Sahara",
          "MS Zaandam",
          "Solomon Islands"
         ],
         "lat": [
          40,
          20.593684,
          -14.235,
          61.524,
          -38.4161,
          40.463667,
          4.5709,
          46.2276,
          -9.19,
          23.6345,
          55,
          -30.5595,
          32.427908,
          -35.6751,
          33.223191,
          41.8719,
          23.685,
          51.165691,
          -0.7893,
          12.879721,
          38.9637,
          23.885942,
          48.3794,
          30.3753,
          31.046051,
          52.3167,
          50.8333,
          60.00100000000001,
          51.9194,
          49.8175,
          45.9432,
          31.7917,
          -1.8312,
          28.1667,
          -16.2902,
          25.3548,
          8.538,
          18.7357,
          23.424076,
          29.31166,
          21.512583,
          48.0196,
          60.1282,
          26.820553000000004,
          39.3999,
          15.7835,
          9.7489,
          36.204824,
          46.8182,
          30.5928,
          9.145,
          15.2,
          53.7098,
          6.4238,
          26.0275,
          47.5162,
          40.0691,
          47.4116,
          33.8547,
          41.377491,
          9.082,
          1.2833,
          -23.4425,
          28.0339,
          41.20438,
          53.1424,
          26.3351,
          47.1625,
          31.9522,
          7.9465,
          40.1431,
          -0.0236,
          33.886917,
          31.24,
          33.93911,
          21.9162,
          56.2639,
          44.0165,
          43.9159,
          48.669,
          13.7942,
          42.7339,
          45.1,
          -25,
          39.0742,
          35.90775700000001,
          41.6086,
          4.210483999999999,
          3.848,
          42.3154,
          7.54,
          41.1533,
          42.602636,
          -18.766947,
          60.472,
          -13.133897,
          46.1512,
          42.708678000000006,
          14.4974,
          61.9241,
          12.8628,
          -22.9576,
          9.9456,
          3.2028,
          49.8153,
          -18.665695,
          -4.0383,
          1.373333,
          38.861,
          18.9712,
          -0.8037,
          18.1096,
          55.1694,
          -19.015438,
          -11.2027,
          16.5388,
          21.0079,
          21.521757,
          25.025885,
          7.873054,
          -13.2543,
          -26.5225,
          -22.3285,
          11.8251,
          12.865416,
          10.6918,
          34.802075,
          -0.228,
          3.9193,
          1.6508,
          35.9375,
          -1.9403,
          6.6111,
          64.9631,
          58.5953,
          5.152149,
          56.8796,
          4.860416000000002,
          15.870032,
          13.4432,
          42.5063,
          17.570692,
          17.1899,
          6.877000000000002,
          35.1264,
          -32.5228,
          9.3077,
          12.2383,
          11.8037,
          8.460555000000001,
          8.6195,
          15.552727,
          -29.61,
          -40.9006,
          15.4542,
          6.4280550000000005,
          17.607789,
          14.058324,
          0.1864,
          43.9424,
          null,
          -6.314993,
          -3.3731,
          23.7,
          -6.369028,
          -11.6455,
          15.1794,
          -20.348404,
          27.5142,
          46.8625,
          11.55,
          43.7333,
          47.14,
          13.1939,
          -4.6796,
          4.5353,
          17.0608,
          12.9843,
          13.9094,
          15.415,
          -17.7134,
          -8.874217,
          12.1165,
          41.9029,
          19.85627,
          17.357822,
          24.2155,
          null,
          -9.6457
         ],
         "legendgroup": "",
         "lon": [
          -100,
          78.96288,
          -51.9253,
          105.3188,
          -63.6167,
          -3.74922,
          -74.2973,
          2.2137,
          -75.0152,
          -102.5528,
          -3,
          22.9375,
          53.68804599999999,
          -71.543,
          43.679291,
          12.5674,
          90.3563,
          10.451526,
          113.9213,
          121.774017,
          35.2433,
          45.079162,
          31.1656,
          69.3451,
          34.851612,
          5.55,
          4.469936,
          -95.001,
          19.1451,
          15.473,
          24.9668,
          -7.0926,
          -78.1834,
          84.25,
          -63.5887,
          51.1839,
          -80.7821,
          -70.1627,
          53.847818,
          47.481766,
          55.92325500000001,
          66.9237,
          18.6435,
          30.802498,
          -8.2245,
          -90.2308,
          -83.7534,
          138.252924,
          8.2275,
          114.3055,
          40.4897,
          -86.2419,
          27.9534,
          -66.5897,
          50.55,
          14.5501,
          45.0382,
          28.3699,
          35.8623,
          64.585262,
          8.6753,
          103.8333,
          -58.4438,
          1.6596,
          74.766098,
          -7.6921,
          17.228331,
          19.5033,
          35.2332,
          -1.0232,
          47.5769,
          37.9062,
          9.537499,
          36.51,
          67.709953,
          95.956,
          9.5018,
          21.0059,
          17.6791,
          19.699,
          -88.8965,
          25.4858,
          15.2,
          133,
          21.8243,
          127.766922,
          21.7453,
          101.975766,
          11.5021,
          43.3569,
          -5.5471,
          20.1683,
          20.902977,
          46.869107,
          8.4689,
          27.849332,
          14.9955,
          19.37439,
          -14.4524,
          25.7482,
          30.2176,
          18.4904,
          -9.6966,
          73.2207,
          6.1296,
          35.529562,
          21.7587,
          32.290275,
          71.2761,
          -72.2852,
          11.6094,
          -77.2975,
          23.8813,
          29.154857,
          17.8739,
          -23.0418,
          -10.9408,
          -77.78116700000002,
          -78.035889,
          80.77179699999998,
          34.3015,
          31.4659,
          24.6849,
          42.5903,
          -85.207229,
          -61.2225,
          38.99681500000001,
          15.8277,
          -56.0278,
          10.2679,
          14.3754,
          29.8739,
          20.9394,
          -19.0208,
          25.0136,
          46.199616,
          24.6032,
          -58.93018000000001,
          100.992541,
          -15.3101,
          1.5218,
          -3.996166000000001,
          -88.4976,
          31.307,
          33.4299,
          -55.7658,
          2.3158,
          -1.5616,
          -15.1804,
          -11.779889,
          0.8248,
          48.516388,
          28.2336,
          174.886,
          18.7322,
          -9.429499,
          8.081666,
          108.277199,
          6.6131,
          12.4578,
          null,
          143.95555,
          29.9189,
          121,
          34.888822,
          43.3333,
          39.7823,
          57.552152,
          90.4336,
          103.8467,
          104.9167,
          7.4167,
          9.55,
          -59.5432,
          55.492,
          114.7277,
          -61.7964,
          -61.2872,
          -60.9789,
          -61.371,
          178.065,
          125.727539,
          -61.679,
          12.4534,
          102.495496,
          -62.782998,
          -12.8858,
          null,
          160.1562
         ],
         "marker": {
          "color": "#e60039",
          "size": [
           12,
           11.110011494519561,
           7.720335994764146,
           2.2508113352010723,
           1.6530291297614284,
           1.6092855948244695,
           1.589061500029969,
           1.587829488614722,
           1.4464376415063331,
           1.4273243533003483,
           1.291554984213162,
           1.2071450909990855,
           0.9775432228738039,
           0.9050941071494172,
           0.8249377903840467,
           0.8194964066333723,
           0.7605794533287704,
           0.7502784689957329,
           0.7320292999073865,
           0.7165350452336898,
           0.7010921243689616,
           0.6896275736993018,
           0.6633460894465038,
           0.6630637534971762,
           0.6370531976806013,
           0.5695364054346166,
           0.5424506915079765,
           0.49423968925160916,
           0.48886389870128366,
           0.47655376612277967,
           0.4724983952142583,
           0.45524595758338604,
           0.4197571843164096,
           0.40657722886371506,
           0.3996828131314011,
           0.3852908094113917,
           0.37929473533602864,
           0.3739246485422552,
           0.36987355545114786,
           0.3690165660291994,
           0.35896797292359095,
           0.3565182094844771,
           0.35308027022271726,
           0.35072747064498855,
           0.34791979648223237,
           0.34575664680985996,
           0.33962938633379935,
           0.33476550793402204,
           0.33084702718275033,
           0.3298018137945836,
           0.3290318066600542,
           0.3286639143624457,
           0.32677739688284874,
           0.32497358387325675,
           0.31198185238678044,
           0.29897158369150995,
           0.29771818318919263,
           0.29690254600224675,
           0.2917377944443478,
           0.2912729382853541,
           0.28787920313687276,
           0.2826075061436225,
           0.27995525934691023,
           0.27818139105921663,
           0.2762278544401328,
           0.2745124496570979,
           0.27361268206100897,
           0.2715522000065739,
           0.2686275988345002,
           0.2676750714903046,
           0.2664373563185055,
           0.2650884178939411,
           0.26338156874573426,
           0.25842215242370986,
           0.2577633685419458,
           0.25490008275280696,
           0.25348127331047965,
           0.25292943486406694,
           0.25178155385796297,
           0.2479129809765218,
           0.24579973917398007,
           0.24543327281550958,
           0.24033411445795946,
           0.23913204776461083,
           0.23774175710504386,
           0.23625165070581572,
           0.23450059744433038,
           0.23273385885232686,
           0.23075608126789676,
           0.23023989129993447,
           0.22900502800641143,
           0.22516782578600666,
           0.22425237285939953,
           0.22396861097093407,
           0.2239144252836894,
           0.22281360026914,
           0.22278793336465566,
           0.2226595988422341,
           0.222077815673923,
           0.22006296367190448,
           0.21956816279101243,
           0.21763316338072286,
           0.21645105983530646,
           0.2160703340854558,
           0.2160275559113153,
           0.2159548330152764,
           0.21577801656216225,
           0.21558836665680595,
           0.2150764545062577,
           0.21279780376370594,
           0.21266661736300835,
           0.2119393884026195,
           0.21174688661898713,
           0.21167273778381024,
           0.21147595818276385,
           0.21126491919033727,
           0.21088419344048664,
           0.20898912032606154,
           0.2084444115753389,
           0.20844013375792486,
           0.20835600334878182,
           0.20826902106136277,
           0.20799666668600145,
           0.20783981338081953,
           0.20774712733684841,
           0.20760310748390864,
           0.207384938795792,
           0.20735071625647958,
           0.20733360498682338,
           0.20723378924716215,
           0.20716534416853732,
           0.2071225659943968,
           0.2069257863933504,
           0.20603029661467548,
           0.20594616620553247,
           0.20554547730774958,
           0.20541286496791397,
           0.20541143902877596,
           0.20528738232376845,
           0.2052103816103155,
           0.20516475155789893,
           0.20486245246063925,
           0.20411383441318012,
           0.20405822278679747,
           0.2040468152736933,
           0.20373881241988157,
           0.20355771814935336,
           0.2034293836269318,
           0.20342510580951775,
           0.20332956788727058,
           0.20299875000725054,
           0.20293173086776373,
           0.20273352532757932,
           0.20272496969275122,
           0.2019934629149483,
           0.20197207382787805,
           0.20172681229613906,
           0.20162984843475387,
           0.2013289752766322,
           0.2010908434405833,
           0.20101384272713035,
           0.20082704470005008,
           0.20078284058677154,
           0.20077428495194344,
           0.20072437708211283,
           0.20071724738642274,
           0.20064309855124585,
           0.20059604255969127,
           0.20047055991554574,
           0.20046485615899368,
           0.20040639265433496,
           0.2003850035672647,
           0.20035791072364237,
           0.20031513254950184,
           0.2002110389924266,
           0.20020818711415056,
           0.20017253863570011,
           0.20009553792224719,
           0.20005133380896864,
           0.20004563005241657,
           0.20004563005241657,
           0.2000399262958645,
           0.20003707441758847,
           0.20003707441758847,
           0.20003279660017442,
           0.2000256669044843,
           0.20001283345224216,
           0.20001140751310414,
           0.20000285187827604
          ],
          "sizemode": "area",
          "sizeref": 0.0048
         },
         "mode": "markers",
         "name": "",
         "showlegend": false,
         "subplot": "mapbox",
         "type": "scattermapbox"
        }
       ],
       "layout": {
        "height": 450,
        "legend": {
         "itemsizing": "constant",
         "tracegroupgap": 0
        },
        "mapbox": {
         "center": {
          "lat": 20.03639324064171,
          "lon": 18.32580003208556
         },
         "domain": {
          "x": [
           0,
           1
          ],
          "y": [
           0,
           1
          ]
         },
         "style": "open-street-map",
         "zoom": 1.5
        },
        "margin": {
         "b": 0,
         "l": 0,
         "r": 0,
         "t": 0
        },
        "template": {
         "data": {
          "bar": [
           {
            "error_x": {
             "color": "#2a3f5f"
            },
            "error_y": {
             "color": "#2a3f5f"
            },
            "marker": {
             "line": {
              "color": "#E5ECF6",
              "width": 0.5
             }
            },
            "type": "bar"
           }
          ],
          "barpolar": [
           {
            "marker": {
             "line": {
              "color": "#E5ECF6",
              "width": 0.5
             }
            },
            "type": "barpolar"
           }
          ],
          "carpet": [
           {
            "aaxis": {
             "endlinecolor": "#2a3f5f",
             "gridcolor": "white",
             "linecolor": "white",
             "minorgridcolor": "white",
             "startlinecolor": "#2a3f5f"
            },
            "baxis": {
             "endlinecolor": "#2a3f5f",
             "gridcolor": "white",
             "linecolor": "white",
             "minorgridcolor": "white",
             "startlinecolor": "#2a3f5f"
            },
            "type": "carpet"
           }
          ],
          "choropleth": [
           {
            "colorbar": {
             "outlinewidth": 0,
             "ticks": ""
            },
            "type": "choropleth"
           }
          ],
          "contour": [
           {
            "colorbar": {
             "outlinewidth": 0,
             "ticks": ""
            },
            "colorscale": [
             [
              0,
              "#0d0887"
             ],
             [
              0.1111111111111111,
              "#46039f"
             ],
             [
              0.2222222222222222,
              "#7201a8"
             ],
             [
              0.3333333333333333,
              "#9c179e"
             ],
             [
              0.4444444444444444,
              "#bd3786"
             ],
             [
              0.5555555555555556,
              "#d8576b"
             ],
             [
              0.6666666666666666,
              "#ed7953"
             ],
             [
              0.7777777777777778,
              "#fb9f3a"
             ],
             [
              0.8888888888888888,
              "#fdca26"
             ],
             [
              1,
              "#f0f921"
             ]
            ],
            "type": "contour"
           }
          ],
          "contourcarpet": [
           {
            "colorbar": {
             "outlinewidth": 0,
             "ticks": ""
            },
            "type": "contourcarpet"
           }
          ],
          "heatmap": [
           {
            "colorbar": {
             "outlinewidth": 0,
             "ticks": ""
            },
            "colorscale": [
             [
              0,
              "#0d0887"
             ],
             [
              0.1111111111111111,
              "#46039f"
             ],
             [
              0.2222222222222222,
              "#7201a8"
             ],
             [
              0.3333333333333333,
              "#9c179e"
             ],
             [
              0.4444444444444444,
              "#bd3786"
             ],
             [
              0.5555555555555556,
              "#d8576b"
             ],
             [
              0.6666666666666666,
              "#ed7953"
             ],
             [
              0.7777777777777778,
              "#fb9f3a"
             ],
             [
              0.8888888888888888,
              "#fdca26"
             ],
             [
              1,
              "#f0f921"
             ]
            ],
            "type": "heatmap"
           }
          ],
          "heatmapgl": [
           {
            "colorbar": {
             "outlinewidth": 0,
             "ticks": ""
            },
            "colorscale": [
             [
              0,
              "#0d0887"
             ],
             [
              0.1111111111111111,
              "#46039f"
             ],
             [
              0.2222222222222222,
              "#7201a8"
             ],
             [
              0.3333333333333333,
              "#9c179e"
             ],
             [
              0.4444444444444444,
              "#bd3786"
             ],
             [
              0.5555555555555556,
              "#d8576b"
             ],
             [
              0.6666666666666666,
              "#ed7953"
             ],
             [
              0.7777777777777778,
              "#fb9f3a"
             ],
             [
              0.8888888888888888,
              "#fdca26"
             ],
             [
              1,
              "#f0f921"
             ]
            ],
            "type": "heatmapgl"
           }
          ],
          "histogram": [
           {
            "marker": {
             "colorbar": {
              "outlinewidth": 0,
              "ticks": ""
             }
            },
            "type": "histogram"
           }
          ],
          "histogram2d": [
           {
            "colorbar": {
             "outlinewidth": 0,
             "ticks": ""
            },
            "colorscale": [
             [
              0,
              "#0d0887"
             ],
             [
              0.1111111111111111,
              "#46039f"
             ],
             [
              0.2222222222222222,
              "#7201a8"
             ],
             [
              0.3333333333333333,
              "#9c179e"
             ],
             [
              0.4444444444444444,
              "#bd3786"
             ],
             [
              0.5555555555555556,
              "#d8576b"
             ],
             [
              0.6666666666666666,
              "#ed7953"
             ],
             [
              0.7777777777777778,
              "#fb9f3a"
             ],
             [
              0.8888888888888888,
              "#fdca26"
             ],
             [
              1,
              "#f0f921"
             ]
            ],
            "type": "histogram2d"
           }
          ],
          "histogram2dcontour": [
           {
            "colorbar": {
             "outlinewidth": 0,
             "ticks": ""
            },
            "colorscale": [
             [
              0,
              "#0d0887"
             ],
             [
              0.1111111111111111,
              "#46039f"
             ],
             [
              0.2222222222222222,
              "#7201a8"
             ],
             [
              0.3333333333333333,
              "#9c179e"
             ],
             [
              0.4444444444444444,
              "#bd3786"
             ],
             [
              0.5555555555555556,
              "#d8576b"
             ],
             [
              0.6666666666666666,
              "#ed7953"
             ],
             [
              0.7777777777777778,
              "#fb9f3a"
             ],
             [
              0.8888888888888888,
              "#fdca26"
             ],
             [
              1,
              "#f0f921"
             ]
            ],
            "type": "histogram2dcontour"
           }
          ],
          "mesh3d": [
           {
            "colorbar": {
             "outlinewidth": 0,
             "ticks": ""
            },
            "type": "mesh3d"
           }
          ],
          "parcoords": [
           {
            "line": {
             "colorbar": {
              "outlinewidth": 0,
              "ticks": ""
             }
            },
            "type": "parcoords"
           }
          ],
          "pie": [
           {
            "automargin": true,
            "type": "pie"
           }
          ],
          "scatter": [
           {
            "marker": {
             "colorbar": {
              "outlinewidth": 0,
              "ticks": ""
             }
            },
            "type": "scatter"
           }
          ],
          "scatter3d": [
           {
            "line": {
             "colorbar": {
              "outlinewidth": 0,
              "ticks": ""
             }
            },
            "marker": {
             "colorbar": {
              "outlinewidth": 0,
              "ticks": ""
             }
            },
            "type": "scatter3d"
           }
          ],
          "scattercarpet": [
           {
            "marker": {
             "colorbar": {
              "outlinewidth": 0,
              "ticks": ""
             }
            },
            "type": "scattercarpet"
           }
          ],
          "scattergeo": [
           {
            "marker": {
             "colorbar": {
              "outlinewidth": 0,
              "ticks": ""
             }
            },
            "type": "scattergeo"
           }
          ],
          "scattergl": [
           {
            "marker": {
             "colorbar": {
              "outlinewidth": 0,
              "ticks": ""
             }
            },
            "type": "scattergl"
           }
          ],
          "scattermapbox": [
           {
            "marker": {
             "colorbar": {
              "outlinewidth": 0,
              "ticks": ""
             }
            },
            "type": "scattermapbox"
           }
          ],
          "scatterpolar": [
           {
            "marker": {
             "colorbar": {
              "outlinewidth": 0,
              "ticks": ""
             }
            },
            "type": "scatterpolar"
           }
          ],
          "scatterpolargl": [
           {
            "marker": {
             "colorbar": {
              "outlinewidth": 0,
              "ticks": ""
             }
            },
            "type": "scatterpolargl"
           }
          ],
          "scatterternary": [
           {
            "marker": {
             "colorbar": {
              "outlinewidth": 0,
              "ticks": ""
             }
            },
            "type": "scatterternary"
           }
          ],
          "surface": [
           {
            "colorbar": {
             "outlinewidth": 0,
             "ticks": ""
            },
            "colorscale": [
             [
              0,
              "#0d0887"
             ],
             [
              0.1111111111111111,
              "#46039f"
             ],
             [
              0.2222222222222222,
              "#7201a8"
             ],
             [
              0.3333333333333333,
              "#9c179e"
             ],
             [
              0.4444444444444444,
              "#bd3786"
             ],
             [
              0.5555555555555556,
              "#d8576b"
             ],
             [
              0.6666666666666666,
              "#ed7953"
             ],
             [
              0.7777777777777778,
              "#fb9f3a"
             ],
             [
              0.8888888888888888,
              "#fdca26"
             ],
             [
              1,
              "#f0f921"
             ]
            ],
            "type": "surface"
           }
          ],
          "table": [
           {
            "cells": {
             "fill": {
              "color": "#EBF0F8"
             },
             "line": {
              "color": "white"
             }
            },
            "header": {
             "fill": {
              "color": "#C8D4E3"
             },
             "line": {
              "color": "white"
             }
            },
            "type": "table"
           }
          ]
         },
         "layout": {
          "annotationdefaults": {
           "arrowcolor": "#2a3f5f",
           "arrowhead": 0,
           "arrowwidth": 1
          },
          "coloraxis": {
           "colorbar": {
            "outlinewidth": 0,
            "ticks": ""
           }
          },
          "colorscale": {
           "diverging": [
            [
             0,
             "#8e0152"
            ],
            [
             0.1,
             "#c51b7d"
            ],
            [
             0.2,
             "#de77ae"
            ],
            [
             0.3,
             "#f1b6da"
            ],
            [
             0.4,
             "#fde0ef"
            ],
            [
             0.5,
             "#f7f7f7"
            ],
            [
             0.6,
             "#e6f5d0"
            ],
            [
             0.7,
             "#b8e186"
            ],
            [
             0.8,
             "#7fbc41"
            ],
            [
             0.9,
             "#4d9221"
            ],
            [
             1,
             "#276419"
            ]
           ],
           "sequential": [
            [
             0,
             "#0d0887"
            ],
            [
             0.1111111111111111,
             "#46039f"
            ],
            [
             0.2222222222222222,
             "#7201a8"
            ],
            [
             0.3333333333333333,
             "#9c179e"
            ],
            [
             0.4444444444444444,
             "#bd3786"
            ],
            [
             0.5555555555555556,
             "#d8576b"
            ],
            [
             0.6666666666666666,
             "#ed7953"
            ],
            [
             0.7777777777777778,
             "#fb9f3a"
            ],
            [
             0.8888888888888888,
             "#fdca26"
            ],
            [
             1,
             "#f0f921"
            ]
           ],
           "sequentialminus": [
            [
             0,
             "#0d0887"
            ],
            [
             0.1111111111111111,
             "#46039f"
            ],
            [
             0.2222222222222222,
             "#7201a8"
            ],
            [
             0.3333333333333333,
             "#9c179e"
            ],
            [
             0.4444444444444444,
             "#bd3786"
            ],
            [
             0.5555555555555556,
             "#d8576b"
            ],
            [
             0.6666666666666666,
             "#ed7953"
            ],
            [
             0.7777777777777778,
             "#fb9f3a"
            ],
            [
             0.8888888888888888,
             "#fdca26"
            ],
            [
             1,
             "#f0f921"
            ]
           ]
          },
          "colorway": [
           "#636efa",
           "#EF553B",
           "#00cc96",
           "#ab63fa",
           "#FFA15A",
           "#19d3f3",
           "#FF6692",
           "#B6E880",
           "#FF97FF",
           "#FECB52"
          ],
          "font": {
           "color": "#2a3f5f"
          },
          "geo": {
           "bgcolor": "white",
           "lakecolor": "white",
           "landcolor": "#E5ECF6",
           "showlakes": true,
           "showland": true,
           "subunitcolor": "white"
          },
          "hoverlabel": {
           "align": "left"
          },
          "hovermode": "closest",
          "mapbox": {
           "style": "light"
          },
          "paper_bgcolor": "white",
          "plot_bgcolor": "#E5ECF6",
          "polar": {
           "angularaxis": {
            "gridcolor": "white",
            "linecolor": "white",
            "ticks": ""
           },
           "bgcolor": "#E5ECF6",
           "radialaxis": {
            "gridcolor": "white",
            "linecolor": "white",
            "ticks": ""
           }
          },
          "scene": {
           "xaxis": {
            "backgroundcolor": "#E5ECF6",
            "gridcolor": "white",
            "gridwidth": 2,
            "linecolor": "white",
            "showbackground": true,
            "ticks": "",
            "zerolinecolor": "white"
           },
           "yaxis": {
            "backgroundcolor": "#E5ECF6",
            "gridcolor": "white",
            "gridwidth": 2,
            "linecolor": "white",
            "showbackground": true,
            "ticks": "",
            "zerolinecolor": "white"
           },
           "zaxis": {
            "backgroundcolor": "#E5ECF6",
            "gridcolor": "white",
            "gridwidth": 2,
            "linecolor": "white",
            "showbackground": true,
            "ticks": "",
            "zerolinecolor": "white"
           }
          },
          "shapedefaults": {
           "line": {
            "color": "#2a3f5f"
           }
          },
          "ternary": {
           "aaxis": {
            "gridcolor": "white",
            "linecolor": "white",
            "ticks": ""
           },
           "baxis": {
            "gridcolor": "white",
            "linecolor": "white",
            "ticks": ""
           },
           "bgcolor": "#E5ECF6",
           "caxis": {
            "gridcolor": "white",
            "linecolor": "white",
            "ticks": ""
           }
          },
          "title": {
           "x": 0.05
          },
          "xaxis": {
           "automargin": true,
           "gridcolor": "white",
           "linecolor": "white",
           "ticks": "",
           "title": {
            "standoff": 15
           },
           "zerolinecolor": "white",
           "zerolinewidth": 2
          },
          "yaxis": {
           "automargin": true,
           "gridcolor": "white",
           "linecolor": "white",
           "ticks": "",
           "title": {
            "standoff": 15
           },
           "zerolinecolor": "white",
           "zerolinewidth": 2
          }
         }
        }
       }
      },
      "text/html": [
       "<div>                            <div id=\"dc267286-6699-4bb1-b766-f81a46d7daea\" class=\"plotly-graph-div\" style=\"height:450px; width:100%;\"></div>            <script type=\"text/javascript\">                require([\"plotly\"], function(Plotly) {                    window.PLOTLYENV=window.PLOTLYENV || {};                                    if (document.getElementById(\"dc267286-6699-4bb1-b766-f81a46d7daea\")) {                    Plotly.newPlot(                        \"dc267286-6699-4bb1-b766-f81a46d7daea\",                        [{\"customdata\": [[8275249.0, 221083.0, 3295148.0], [7651107.0, 115914.0, 6795103.0], [5273954.0, 154837.0, 4526393.0], [1438219.0, 24786.0, 1091264.0], [1018999.0, 27100.0, 829647.0], [988322.0, 34210.0, 150376.0], [974139.0, 29272.0, 876731.0], [973275.0, 33928.0, 110515.0], [874118.0, 33875.0, 788494.0], [860714.0, 86893.0, 730594.0], [765500.0, 44057.0, 2636.0], [706304.0, 18656.0, 639568.0], [545286.0, 31346.0, 438709.0], [494478.0, 13702.0, 466643.0], [438265.0, 10418.0, 369010.0], [434449.0, 36705.0, 255005.0], [393131.0, 5723.0, 308845.0], [385907.0, 9883.0, 301394.0], [373109.0, 12857.0, 297509.0], [362243.0, 6747.0, 311506.0], [351413.0, 9445.0, 306939.0], [343373.0, 5235.0, 329715.0], [324942.0, 6093.0, 137515.0], [324744.0, 6692.0, 308674.0], [306503.0, 2278.0, 283205.0], [259154.0, 6933.0, 5327.0], [240159.0, 10489.0, 21476.0], [206349.0, 9849.0, 174514.0], [202579.0, 3851.0, 98884.0], [193946.0, 1619.0, 79108.0], [191102.0, 6065.0, 137835.0], [179003.0, 3027.0, 148838.0], [154115.0, 12404.0, 134187.0], [144872.0, 791.0, 99605.0], [140037.0, 8526.0, 105526.0], [129944.0, 224.0, 126866.0], [125739.0, 2585.0, 102028.0], [121973.0, 2204.0, 99271.0], [119132.0, 472.0, 111814.0], [118531.0, 721.0, 109916.0], [111484.0, 1137.0, 97367.0], [109766.0, 1796.0, 105301.0], [107355.0, 5929.0, null], [105705.0, 6142.0, 98413.0], [103736.0, 2213.0, 61898.0], [102219.0, 3546.0, 91604.0], [97922.0, 1222.0, 60109.0], [94511.0, 1686.0, 86429.0], [91763.0, 2145.0, 54600.0], [91030.0, 4739.0, 85884.0], [90490.0, 1371.0, 43638.0], [90232.0, 2582.0, 35930.0], [88909.0, 937.0, 80503.0], [87644.0, 747.0, 80316.0], [78533.0, 307.0, 75089.0], [69409.0, 925.0, 52617.0], [68530.0, 1121.0, 49219.0], [67958.0, 1617.0, 49083.0], [64336.0, 531.0, 29498.0], [64010.0, 534.0, 61068.0], [61630.0, 1125.0, 56797.0], [57933.0, 28.0, 57819.0], [56073.0, 1231.0, 37167.0], [54829.0, 1873.0, 38346.0], [53459.0, 1118.0, 46444.0], [52256.0, 1865.0, 23364.0], [51625.0, 765.0, 28440.0], [50180.0, 1259.0, 14905.0], [48129.0, 421.0, 41455.0], [47461.0, 312.0, 46752.0], [46593.0, 642.0, 40448.0], [45647.0, 842.0, 32522.0], [44450.0, 711.0, 5032.0], [40972.0, 414.0, 7123.0], [40510.0, 1501.0, 33824.0], [38502.0, 945.0, 18874.0], [37507.0, 690.0, 30920.0], [37120.0, 780.0, null], [36315.0, 1031.0, 25779.0], [33602.0, 98.0, 8404.0], [32120.0, 933.0, 27670.0], [31863.0, 1019.0, 17414.0], [28287.0, 393.0, 21435.0], [27444.0, 905.0, 25147.0], [26469.0, 528.0, 1347.0], [25424.0, 450.0, 23584.0], [24196.0, 850.0, 17673.0], [22957.0, 199.0, 14931.0], [21570.0, 425.0, 20117.0], [21208.0, 172.0, 9003.0], [20342.0, 121.0, 20044.0], [17651.0, 458.0, 10225.0], [17009.0, 656.0, 14711.0], [16810.0, 238.0, 16215.0], [16772.0, 279.0, 11863.0], [16000.0, 346.0, 15168.0], [15982.0, 200.0, 6922.0], [15892.0, 247.0, 11581.0], [15484.0, 321.0, 13975.0], [14071.0, 355.0, 9800.0], [13724.0, 836.0, 6764.0], [12367.0, 132.0, 10528.0], [11538.0, 70.0, 10447.0], [11271.0, 37.0, 10234.0], [11241.0, 136.0, 8472.0], [11190.0, 78.0, 9007.0], [11066.0, 303.0, 10362.0], [10933.0, 98.0, 7154.0], [10574.0, 80.0, 9617.0], [8976.0, 231.0, 7303.0], [8884.0, 54.0, 8452.0], [8374.0, 174.0, 4002.0], [8239.0, 120.0, 3599.0], [8187.0, 233.0, 7692.0], [8049.0, 251.0, 3037.0], [7901.0, 87.0, 6792.0], [7634.0, 163.0, 7359.0], [6305.0, 127.0, 5806.0], [5923.0, 124.0, 3525.0], [5920.0, 13.0, 3501.0], [5861.0, 182.0, 4757.0], [5800.0, 116.0, 5437.0], [5609.0, 21.0, 915.0], [5499.0, 61.0, 5384.0], [5434.0, 155.0, 4225.0], [5333.0, 98.0, 3758.0], [5180.0, 254.0, 1596.0], [5156.0, 92.0, 3887.0], [5144.0, 109.0, 4979.0], [5074.0, 83.0, 4954.0], [5026.0, 46.0, 3331.0], [4996.0, 34.0, 4797.0], [4858.0, 62.0, 1924.0], [4230.0, 11.0, 3013.0], [4171.0, 71.0, 3334.0], [3890.0, 101.0, 3166.0], [3797.0, 47.0, 1341.0], [3796.0, 114.0, 2796.0], [3709.0, 59.0, 3495.0], [3655.0, 118.0, 2658.0], [3623.0, 62.0, 2273.0], [3411.0, 132.0, 2593.0], [2886.0, 45.0, 1727.0], [2847.0, 55.0, 1290.0], [2839.0, 25.0, 1444.0], [2623.0, 52.0, 2142.0], [2496.0, 41.0, 2330.0], [2406.0, 65.0, 1824.0], [2403.0, 41.0, 1818.0], [2336.0, 73.0, 1765.0], [2104.0, 51.0, 1555.0], [2057.0, 597.0, 1338.0], [1918.0, 43.0, 961.0], [1912.0, 25.0, 1831.0], [1399.0, 93.0, 1199.0], [1384.0, 82.0, 1273.0], [1212.0, 69.0, 1128.0], [1144.0, 35.0, 1046.0], [933.0, 15.0, 898.0], [766.0, 42.0, 688.0], [712.0, 13.0, 659.0], [581.0, 7.0, 541.0], [550.0, 1.0, 497.0], [544.0, 7.0, 495.0], [509.0, 21.0, 183.0], [504.0, 7.0, 494.0], [452.0, 0.0, 388.0], [419.0, 10.0, 379.0], [331.0, 0.0, 302.0], [327.0, 0.0, 312.0], [286.0, 0.0, 280.0], [271.0, 2.0, 227.0], [252.0, 1.0, 145.0], [222.0, 7.0, 204.0], [149.0, 0.0, 148.0], [147.0, 3.0, 143.0], [122.0, 3.0, 101.0], [68.0, 0.0, 64.0], [37.0, 0.0, 27.0], [33.0, 0.0, 29.0], [33.0, 2.0, 30.0], [29.0, 0.0, 28.0], [27.0, 0.0, 24.0], [27.0, 0.0, 15.0], [24.0, 0.0, 22.0], [19.0, 0.0, 19.0], [10.0, 1.0, 8.0], [9.0, 2.0, null], [3.0, 0.0, null]], \"hovertemplate\": \"<b>%{hovertext}</b><br><br>size=%{marker.size}<br>Lat=%{lat}<br>Long=%{lon}<br>Confirmed=%{customdata[0]}<br>Deaths=%{customdata[1]}<br>Recovered=%{customdata[2]}<extra></extra>\", \"hovertext\": [\"US\", \"India\", \"Brazil\", \"Russia\", \"Argentina\", \"Spain\", \"Colombia\", \"France\", \"Peru\", \"Mexico\", \"United Kingdom\", \"South Africa\", \"Iran\", \"Chile\", \"Iraq\", \"Italy\", \"Bangladesh\", \"Germany\", \"Indonesia\", \"Philippines\", \"Turkey\", \"Saudi Arabia\", \"Ukraine\", \"Pakistan\", \"Israel\", \"Netherlands\", \"Belgium\", \"Canada\", \"Poland\", \"Czechia\", \"Romania\", \"Morocco\", \"Ecuador\", \"Nepal\", \"Bolivia\", \"Qatar\", \"Panama\", \"Dominican Republic\", \"United Arab Emirates\", \"Kuwait\", \"Oman\", \"Kazakhstan\", \"Sweden\", \"Egypt\", \"Portugal\", \"Guatemala\", \"Costa Rica\", \"Japan\", \"Switzerland\", \"China\", \"Ethiopia\", \"Honduras\", \"Belarus\", \"Venezuela\", \"Bahrain\", \"Austria\", \"Armenia\", \"Moldova\", \"Lebanon\", \"Uzbekistan\", \"Nigeria\", \"Singapore\", \"Paraguay\", \"Algeria\", \"Kyrgyzstan\", \"Ireland\", \"Libya\", \"Hungary\", \"West Bank and Gaza\", \"Ghana\", \"Azerbaijan\", \"Kenya\", \"Tunisia\", \"Jordan\", \"Afghanistan\", \"Burma\", \"Denmark\", \"Serbia\", \"Bosnia and Herzegovina\", \"Slovakia\", \"El Salvador\", \"Bulgaria\", \"Croatia\", \"Australia\", \"Greece\", \"Korea, South\", \"North Macedonia\", \"Malaysia\", \"Cameroon\", \"Georgia\", \"Cote d'Ivoire\", \"Albania\", \"Kosovo\", \"Madagascar\", \"Norway\", \"Zambia\", \"Slovenia\", \"Montenegro\", \"Senegal\", \"Finland\", \"Sudan\", \"Namibia\", \"Guinea\", \"Maldives\", \"Luxembourg\", \"Mozambique\", \"Congo (Kinshasa)\", \"Uganda\", \"Tajikistan\", \"Haiti\", \"Gabon\", \"Jamaica\", \"Lithuania\", \"Zimbabwe\", \"Angola\", \"Cabo Verde\", \"Mauritania\", \"Cuba\", \"Bahamas\", \"Sri Lanka\", \"Malawi\", \"Eswatini\", \"Botswana\", \"Djibouti\", \"Nicaragua\", \"Trinidad and Tobago\", \"Syria\", \"Congo (Brazzaville)\", \"Suriname\", \"Equatorial Guinea\", \"Malta\", \"Rwanda\", \"Central African Republic\", \"Iceland\", \"Estonia\", \"Somalia\", \"Latvia\", \"Guyana\", \"Thailand\", \"Gambia\", \"Andorra\", \"Mali\", \"Belize\", \"South Sudan\", \"Cyprus\", \"Uruguay\", \"Benin\", \"Burkina Faso\", \"Guinea-Bissau\", \"Sierra Leone\", \"Togo\", \"Yemen\", \"Lesotho\", \"New Zealand\", \"Chad\", \"Liberia\", \"Niger\", \"Vietnam\", \"Sao Tome and Principe\", \"San Marino\", \"Diamond Princess\", \"Papua New Guinea\", \"Burundi\", \"Taiwan*\", \"Tanzania\", \"Comoros\", \"Eritrea\", \"Mauritius\", \"Bhutan\", \"Mongolia\", \"Cambodia\", \"Monaco\", \"Liechtenstein\", \"Barbados\", \"Seychelles\", \"Brunei\", \"Antigua and Barbuda\", \"Saint Vincent and the Grenadines\", \"Saint Lucia\", \"Dominica\", \"Fiji\", \"Timor-Leste\", \"Grenada\", \"Holy See\", \"Laos\", \"Saint Kitts and Nevis\", \"Western Sahara\", \"MS Zaandam\", \"Solomon Islands\"], \"lat\": [40.0, 20.593684, -14.235, 61.524, -38.4161, 40.463667, 4.5709, 46.2276, -9.19, 23.6345, 55.0, -30.5595, 32.427908, -35.6751, 33.223191, 41.8719, 23.685, 51.165691, -0.7893, 12.879721, 38.9637, 23.885942, 48.3794, 30.3753, 31.046051, 52.3167, 50.8333, 60.00100000000001, 51.9194, 49.8175, 45.9432, 31.7917, -1.8312, 28.1667, -16.2902, 25.3548, 8.538, 18.7357, 23.424076, 29.31166, 21.512583, 48.0196, 60.1282, 26.820553000000004, 39.3999, 15.7835, 9.7489, 36.204824, 46.8182, 30.5928, 9.145, 15.2, 53.7098, 6.4238, 26.0275, 47.5162, 40.0691, 47.4116, 33.8547, 41.377491, 9.082, 1.2833, -23.4425, 28.0339, 41.20438, 53.1424, 26.3351, 47.1625, 31.9522, 7.9465, 40.1431, -0.0236, 33.886917, 31.24, 33.93911, 21.9162, 56.2639, 44.0165, 43.9159, 48.669, 13.7942, 42.7339, 45.1, -25.0, 39.0742, 35.90775700000001, 41.6086, 4.210483999999999, 3.848, 42.3154, 7.54, 41.1533, 42.602636, -18.766947, 60.472, -13.133897, 46.1512, 42.708678000000006, 14.4974, 61.9241, 12.8628, -22.9576, 9.9456, 3.2028, 49.8153, -18.665695, -4.0383, 1.373333, 38.861, 18.9712, -0.8037, 18.1096, 55.1694, -19.015438, -11.2027, 16.5388, 21.0079, 21.521757, 25.025885, 7.873054, -13.2543, -26.5225, -22.3285, 11.8251, 12.865416, 10.6918, 34.802075, -0.228, 3.9193, 1.6508, 35.9375, -1.9403, 6.6111, 64.9631, 58.5953, 5.152149, 56.8796, 4.860416000000002, 15.870032, 13.4432, 42.5063, 17.570692, 17.1899, 6.877000000000002, 35.1264, -32.5228, 9.3077, 12.2383, 11.8037, 8.460555000000001, 8.6195, 15.552727, -29.61, -40.9006, 15.4542, 6.4280550000000005, 17.607789, 14.058324, 0.1864, 43.9424, null, -6.314993, -3.3731, 23.7, -6.369028, -11.6455, 15.1794, -20.348404, 27.5142, 46.8625, 11.55, 43.7333, 47.14, 13.1939, -4.6796, 4.5353, 17.0608, 12.9843, 13.9094, 15.415, -17.7134, -8.874217, 12.1165, 41.9029, 19.85627, 17.357822, 24.2155, null, -9.6457], \"legendgroup\": \"\", \"lon\": [-100.0, 78.96288, -51.9253, 105.3188, -63.6167, -3.74922, -74.2973, 2.2137, -75.0152, -102.5528, -3.0, 22.9375, 53.68804599999999, -71.543, 43.679291, 12.5674, 90.3563, 10.451526, 113.9213, 121.774017, 35.2433, 45.079162, 31.1656, 69.3451, 34.851612, 5.55, 4.469936, -95.001, 19.1451, 15.473, 24.9668, -7.0926, -78.1834, 84.25, -63.5887, 51.1839, -80.7821, -70.1627, 53.847818, 47.481766, 55.92325500000001, 66.9237, 18.6435, 30.802498, -8.2245, -90.2308, -83.7534, 138.252924, 8.2275, 114.3055, 40.4897, -86.2419, 27.9534, -66.5897, 50.55, 14.5501, 45.0382, 28.3699, 35.8623, 64.585262, 8.6753, 103.8333, -58.4438, 1.6596, 74.766098, -7.6921, 17.228331, 19.5033, 35.2332, -1.0232, 47.5769, 37.9062, 9.537499, 36.51, 67.709953, 95.956, 9.5018, 21.0059, 17.6791, 19.699, -88.8965, 25.4858, 15.2, 133.0, 21.8243, 127.766922, 21.7453, 101.975766, 11.5021, 43.3569, -5.5471, 20.1683, 20.902977, 46.869107, 8.4689, 27.849332, 14.9955, 19.37439, -14.4524, 25.7482, 30.2176, 18.4904, -9.6966, 73.2207, 6.1296, 35.529562, 21.7587, 32.290275, 71.2761, -72.2852, 11.6094, -77.2975, 23.8813, 29.154857, 17.8739, -23.0418, -10.9408, -77.78116700000002, -78.035889, 80.77179699999998, 34.3015, 31.4659, 24.6849, 42.5903, -85.207229, -61.2225, 38.99681500000001, 15.8277, -56.0278, 10.2679, 14.3754, 29.8739, 20.9394, -19.0208, 25.0136, 46.199616, 24.6032, -58.93018000000001, 100.992541, -15.3101, 1.5218, -3.996166000000001, -88.4976, 31.307, 33.4299, -55.7658, 2.3158, -1.5616, -15.1804, -11.779889, 0.8248, 48.516388, 28.2336, 174.886, 18.7322, -9.429499, 8.081666, 108.277199, 6.6131, 12.4578, null, 143.95555, 29.9189, 121.0, 34.888822, 43.3333, 39.7823, 57.552152, 90.4336, 103.8467, 104.9167, 7.4167, 9.55, -59.5432, 55.492, 114.7277, -61.7964, -61.2872, -60.9789, -61.371, 178.065, 125.727539, -61.679, 12.4534, 102.495496, -62.782998, -12.8858, null, 160.1562], \"marker\": {\"color\": \"#e60039\", \"size\": [12.0, 11.110011494519561, 7.720335994764146, 2.2508113352010723, 1.6530291297614284, 1.6092855948244695, 1.589061500029969, 1.587829488614722, 1.4464376415063331, 1.4273243533003483, 1.291554984213162, 1.2071450909990855, 0.9775432228738039, 0.9050941071494172, 0.8249377903840467, 0.8194964066333723, 0.7605794533287704, 0.7502784689957329, 0.7320292999073865, 0.7165350452336898, 0.7010921243689616, 0.6896275736993018, 0.6633460894465038, 0.6630637534971762, 0.6370531976806013, 0.5695364054346166, 0.5424506915079765, 0.49423968925160916, 0.48886389870128366, 0.47655376612277967, 0.4724983952142583, 0.45524595758338604, 0.4197571843164096, 0.40657722886371506, 0.3996828131314011, 0.3852908094113917, 0.37929473533602864, 0.3739246485422552, 0.36987355545114786, 0.3690165660291994, 0.35896797292359095, 0.3565182094844771, 0.35308027022271726, 0.35072747064498855, 0.34791979648223237, 0.34575664680985996, 0.33962938633379935, 0.33476550793402204, 0.33084702718275033, 0.3298018137945836, 0.3290318066600542, 0.3286639143624457, 0.32677739688284874, 0.32497358387325675, 0.31198185238678044, 0.29897158369150995, 0.29771818318919263, 0.29690254600224675, 0.2917377944443478, 0.2912729382853541, 0.28787920313687276, 0.2826075061436225, 0.27995525934691023, 0.27818139105921663, 0.2762278544401328, 0.2745124496570979, 0.27361268206100897, 0.2715522000065739, 0.2686275988345002, 0.2676750714903046, 0.2664373563185055, 0.2650884178939411, 0.26338156874573426, 0.25842215242370986, 0.2577633685419458, 0.25490008275280696, 0.25348127331047965, 0.25292943486406694, 0.25178155385796297, 0.2479129809765218, 0.24579973917398007, 0.24543327281550958, 0.24033411445795946, 0.23913204776461083, 0.23774175710504386, 0.23625165070581572, 0.23450059744433038, 0.23273385885232686, 0.23075608126789676, 0.23023989129993447, 0.22900502800641143, 0.22516782578600666, 0.22425237285939953, 0.22396861097093407, 0.2239144252836894, 0.22281360026914, 0.22278793336465566, 0.2226595988422341, 0.222077815673923, 0.22006296367190448, 0.21956816279101243, 0.21763316338072286, 0.21645105983530646, 0.2160703340854558, 0.2160275559113153, 0.2159548330152764, 0.21577801656216225, 0.21558836665680595, 0.2150764545062577, 0.21279780376370594, 0.21266661736300835, 0.2119393884026195, 0.21174688661898713, 0.21167273778381024, 0.21147595818276385, 0.21126491919033727, 0.21088419344048664, 0.20898912032606154, 0.2084444115753389, 0.20844013375792486, 0.20835600334878182, 0.20826902106136277, 0.20799666668600145, 0.20783981338081953, 0.20774712733684841, 0.20760310748390864, 0.207384938795792, 0.20735071625647958, 0.20733360498682338, 0.20723378924716215, 0.20716534416853732, 0.2071225659943968, 0.2069257863933504, 0.20603029661467548, 0.20594616620553247, 0.20554547730774958, 0.20541286496791397, 0.20541143902877596, 0.20528738232376845, 0.2052103816103155, 0.20516475155789893, 0.20486245246063925, 0.20411383441318012, 0.20405822278679747, 0.2040468152736933, 0.20373881241988157, 0.20355771814935336, 0.2034293836269318, 0.20342510580951775, 0.20332956788727058, 0.20299875000725054, 0.20293173086776373, 0.20273352532757932, 0.20272496969275122, 0.2019934629149483, 0.20197207382787805, 0.20172681229613906, 0.20162984843475387, 0.2013289752766322, 0.2010908434405833, 0.20101384272713035, 0.20082704470005008, 0.20078284058677154, 0.20077428495194344, 0.20072437708211283, 0.20071724738642274, 0.20064309855124585, 0.20059604255969127, 0.20047055991554574, 0.20046485615899368, 0.20040639265433496, 0.2003850035672647, 0.20035791072364237, 0.20031513254950184, 0.2002110389924266, 0.20020818711415056, 0.20017253863570011, 0.20009553792224719, 0.20005133380896864, 0.20004563005241657, 0.20004563005241657, 0.2000399262958645, 0.20003707441758847, 0.20003707441758847, 0.20003279660017442, 0.2000256669044843, 0.20001283345224216, 0.20001140751310414, 0.20000285187827604], \"sizemode\": \"area\", \"sizeref\": 0.0048}, \"mode\": \"markers\", \"name\": \"\", \"showlegend\": false, \"subplot\": \"mapbox\", \"type\": \"scattermapbox\"}],                        {\"height\": 450, \"legend\": {\"itemsizing\": \"constant\", \"tracegroupgap\": 0}, \"mapbox\": {\"center\": {\"lat\": 20.03639324064171, \"lon\": 18.32580003208556}, \"domain\": {\"x\": [0.0, 1.0], \"y\": [0.0, 1.0]}, \"style\": \"open-street-map\", \"zoom\": 1.5}, \"margin\": {\"b\": 0, \"l\": 0, \"r\": 0, \"t\": 0}, \"template\": {\"data\": {\"bar\": [{\"error_x\": {\"color\": \"#2a3f5f\"}, \"error_y\": {\"color\": \"#2a3f5f\"}, \"marker\": {\"line\": {\"color\": \"#E5ECF6\", \"width\": 0.5}}, \"type\": \"bar\"}], \"barpolar\": [{\"marker\": {\"line\": {\"color\": \"#E5ECF6\", \"width\": 0.5}}, \"type\": \"barpolar\"}], \"carpet\": [{\"aaxis\": {\"endlinecolor\": \"#2a3f5f\", \"gridcolor\": \"white\", \"linecolor\": \"white\", \"minorgridcolor\": \"white\", \"startlinecolor\": \"#2a3f5f\"}, \"baxis\": {\"endlinecolor\": \"#2a3f5f\", \"gridcolor\": \"white\", \"linecolor\": \"white\", \"minorgridcolor\": \"white\", \"startlinecolor\": \"#2a3f5f\"}, \"type\": \"carpet\"}], \"choropleth\": [{\"colorbar\": {\"outlinewidth\": 0, \"ticks\": \"\"}, \"type\": \"choropleth\"}], \"contour\": [{\"colorbar\": {\"outlinewidth\": 0, \"ticks\": \"\"}, \"colorscale\": [[0.0, \"#0d0887\"], [0.1111111111111111, \"#46039f\"], [0.2222222222222222, \"#7201a8\"], [0.3333333333333333, \"#9c179e\"], [0.4444444444444444, \"#bd3786\"], [0.5555555555555556, \"#d8576b\"], [0.6666666666666666, \"#ed7953\"], [0.7777777777777778, \"#fb9f3a\"], [0.8888888888888888, \"#fdca26\"], [1.0, \"#f0f921\"]], \"type\": \"contour\"}], \"contourcarpet\": [{\"colorbar\": {\"outlinewidth\": 0, \"ticks\": \"\"}, \"type\": \"contourcarpet\"}], \"heatmap\": [{\"colorbar\": {\"outlinewidth\": 0, \"ticks\": \"\"}, \"colorscale\": [[0.0, \"#0d0887\"], [0.1111111111111111, \"#46039f\"], [0.2222222222222222, \"#7201a8\"], [0.3333333333333333, \"#9c179e\"], [0.4444444444444444, \"#bd3786\"], [0.5555555555555556, \"#d8576b\"], [0.6666666666666666, \"#ed7953\"], [0.7777777777777778, \"#fb9f3a\"], [0.8888888888888888, \"#fdca26\"], [1.0, \"#f0f921\"]], \"type\": \"heatmap\"}], \"heatmapgl\": [{\"colorbar\": {\"outlinewidth\": 0, \"ticks\": \"\"}, \"colorscale\": [[0.0, \"#0d0887\"], [0.1111111111111111, \"#46039f\"], [0.2222222222222222, \"#7201a8\"], [0.3333333333333333, \"#9c179e\"], [0.4444444444444444, \"#bd3786\"], [0.5555555555555556, \"#d8576b\"], [0.6666666666666666, \"#ed7953\"], [0.7777777777777778, \"#fb9f3a\"], [0.8888888888888888, \"#fdca26\"], [1.0, \"#f0f921\"]], \"type\": \"heatmapgl\"}], \"histogram\": [{\"marker\": {\"colorbar\": {\"outlinewidth\": 0, \"ticks\": \"\"}}, \"type\": \"histogram\"}], \"histogram2d\": [{\"colorbar\": {\"outlinewidth\": 0, \"ticks\": \"\"}, \"colorscale\": [[0.0, \"#0d0887\"], [0.1111111111111111, \"#46039f\"], [0.2222222222222222, \"#7201a8\"], [0.3333333333333333, \"#9c179e\"], [0.4444444444444444, \"#bd3786\"], [0.5555555555555556, \"#d8576b\"], [0.6666666666666666, \"#ed7953\"], [0.7777777777777778, \"#fb9f3a\"], [0.8888888888888888, \"#fdca26\"], [1.0, \"#f0f921\"]], \"type\": \"histogram2d\"}], \"histogram2dcontour\": [{\"colorbar\": {\"outlinewidth\": 0, \"ticks\": \"\"}, \"colorscale\": [[0.0, \"#0d0887\"], [0.1111111111111111, \"#46039f\"], [0.2222222222222222, \"#7201a8\"], [0.3333333333333333, \"#9c179e\"], [0.4444444444444444, \"#bd3786\"], [0.5555555555555556, \"#d8576b\"], [0.6666666666666666, \"#ed7953\"], [0.7777777777777778, \"#fb9f3a\"], [0.8888888888888888, \"#fdca26\"], [1.0, \"#f0f921\"]], \"type\": \"histogram2dcontour\"}], \"mesh3d\": [{\"colorbar\": {\"outlinewidth\": 0, \"ticks\": \"\"}, \"type\": \"mesh3d\"}], \"parcoords\": [{\"line\": {\"colorbar\": {\"outlinewidth\": 0, \"ticks\": \"\"}}, \"type\": \"parcoords\"}], \"pie\": [{\"automargin\": true, \"type\": \"pie\"}], \"scatter\": [{\"marker\": {\"colorbar\": {\"outlinewidth\": 0, \"ticks\": \"\"}}, \"type\": \"scatter\"}], \"scatter3d\": [{\"line\": {\"colorbar\": {\"outlinewidth\": 0, \"ticks\": \"\"}}, \"marker\": {\"colorbar\": {\"outlinewidth\": 0, \"ticks\": \"\"}}, \"type\": \"scatter3d\"}], \"scattercarpet\": [{\"marker\": {\"colorbar\": {\"outlinewidth\": 0, \"ticks\": \"\"}}, \"type\": \"scattercarpet\"}], \"scattergeo\": [{\"marker\": {\"colorbar\": {\"outlinewidth\": 0, \"ticks\": \"\"}}, \"type\": \"scattergeo\"}], \"scattergl\": [{\"marker\": {\"colorbar\": {\"outlinewidth\": 0, \"ticks\": \"\"}}, \"type\": \"scattergl\"}], \"scattermapbox\": [{\"marker\": {\"colorbar\": {\"outlinewidth\": 0, \"ticks\": \"\"}}, \"type\": \"scattermapbox\"}], \"scatterpolar\": [{\"marker\": {\"colorbar\": {\"outlinewidth\": 0, \"ticks\": \"\"}}, \"type\": \"scatterpolar\"}], \"scatterpolargl\": [{\"marker\": {\"colorbar\": {\"outlinewidth\": 0, \"ticks\": \"\"}}, \"type\": \"scatterpolargl\"}], \"scatterternary\": [{\"marker\": {\"colorbar\": {\"outlinewidth\": 0, \"ticks\": \"\"}}, \"type\": \"scatterternary\"}], \"surface\": [{\"colorbar\": {\"outlinewidth\": 0, \"ticks\": \"\"}, \"colorscale\": [[0.0, \"#0d0887\"], [0.1111111111111111, \"#46039f\"], [0.2222222222222222, \"#7201a8\"], [0.3333333333333333, \"#9c179e\"], [0.4444444444444444, \"#bd3786\"], [0.5555555555555556, \"#d8576b\"], [0.6666666666666666, \"#ed7953\"], [0.7777777777777778, \"#fb9f3a\"], [0.8888888888888888, \"#fdca26\"], [1.0, \"#f0f921\"]], \"type\": \"surface\"}], \"table\": [{\"cells\": {\"fill\": {\"color\": \"#EBF0F8\"}, \"line\": {\"color\": \"white\"}}, \"header\": {\"fill\": {\"color\": \"#C8D4E3\"}, \"line\": {\"color\": \"white\"}}, \"type\": \"table\"}]}, \"layout\": {\"annotationdefaults\": {\"arrowcolor\": \"#2a3f5f\", \"arrowhead\": 0, \"arrowwidth\": 1}, \"coloraxis\": {\"colorbar\": {\"outlinewidth\": 0, \"ticks\": \"\"}}, \"colorscale\": {\"diverging\": [[0, \"#8e0152\"], [0.1, \"#c51b7d\"], [0.2, \"#de77ae\"], [0.3, \"#f1b6da\"], [0.4, \"#fde0ef\"], [0.5, \"#f7f7f7\"], [0.6, \"#e6f5d0\"], [0.7, \"#b8e186\"], [0.8, \"#7fbc41\"], [0.9, \"#4d9221\"], [1, \"#276419\"]], \"sequential\": [[0.0, \"#0d0887\"], [0.1111111111111111, \"#46039f\"], [0.2222222222222222, \"#7201a8\"], [0.3333333333333333, \"#9c179e\"], [0.4444444444444444, \"#bd3786\"], [0.5555555555555556, \"#d8576b\"], [0.6666666666666666, \"#ed7953\"], [0.7777777777777778, \"#fb9f3a\"], [0.8888888888888888, \"#fdca26\"], [1.0, \"#f0f921\"]], \"sequentialminus\": [[0.0, \"#0d0887\"], [0.1111111111111111, \"#46039f\"], [0.2222222222222222, \"#7201a8\"], [0.3333333333333333, \"#9c179e\"], [0.4444444444444444, \"#bd3786\"], [0.5555555555555556, \"#d8576b\"], [0.6666666666666666, \"#ed7953\"], [0.7777777777777778, \"#fb9f3a\"], [0.8888888888888888, \"#fdca26\"], [1.0, \"#f0f921\"]]}, \"colorway\": [\"#636efa\", \"#EF553B\", \"#00cc96\", \"#ab63fa\", \"#FFA15A\", \"#19d3f3\", \"#FF6692\", \"#B6E880\", \"#FF97FF\", \"#FECB52\"], \"font\": {\"color\": \"#2a3f5f\"}, \"geo\": {\"bgcolor\": \"white\", \"lakecolor\": \"white\", \"landcolor\": \"#E5ECF6\", \"showlakes\": true, \"showland\": true, \"subunitcolor\": \"white\"}, \"hoverlabel\": {\"align\": \"left\"}, \"hovermode\": \"closest\", \"mapbox\": {\"style\": \"light\"}, \"paper_bgcolor\": \"white\", \"plot_bgcolor\": \"#E5ECF6\", \"polar\": {\"angularaxis\": {\"gridcolor\": \"white\", \"linecolor\": \"white\", \"ticks\": \"\"}, \"bgcolor\": \"#E5ECF6\", \"radialaxis\": {\"gridcolor\": \"white\", \"linecolor\": \"white\", \"ticks\": \"\"}}, \"scene\": {\"xaxis\": {\"backgroundcolor\": \"#E5ECF6\", \"gridcolor\": \"white\", \"gridwidth\": 2, \"linecolor\": \"white\", \"showbackground\": true, \"ticks\": \"\", \"zerolinecolor\": \"white\"}, \"yaxis\": {\"backgroundcolor\": \"#E5ECF6\", \"gridcolor\": \"white\", \"gridwidth\": 2, \"linecolor\": \"white\", \"showbackground\": true, \"ticks\": \"\", \"zerolinecolor\": \"white\"}, \"zaxis\": {\"backgroundcolor\": \"#E5ECF6\", \"gridcolor\": \"white\", \"gridwidth\": 2, \"linecolor\": \"white\", \"showbackground\": true, \"ticks\": \"\", \"zerolinecolor\": \"white\"}}, \"shapedefaults\": {\"line\": {\"color\": \"#2a3f5f\"}}, \"ternary\": {\"aaxis\": {\"gridcolor\": \"white\", \"linecolor\": \"white\", \"ticks\": \"\"}, \"baxis\": {\"gridcolor\": \"white\", \"linecolor\": \"white\", \"ticks\": \"\"}, \"bgcolor\": \"#E5ECF6\", \"caxis\": {\"gridcolor\": \"white\", \"linecolor\": \"white\", \"ticks\": \"\"}}, \"title\": {\"x\": 0.05}, \"xaxis\": {\"automargin\": true, \"gridcolor\": \"white\", \"linecolor\": \"white\", \"ticks\": \"\", \"title\": {\"standoff\": 15}, \"zerolinecolor\": \"white\", \"zerolinewidth\": 2}, \"yaxis\": {\"automargin\": true, \"gridcolor\": \"white\", \"linecolor\": \"white\", \"ticks\": \"\", \"title\": {\"standoff\": 15}, \"zerolinecolor\": \"white\", \"zerolinewidth\": 2}}}},                        {\"responsive\": true}                    ).then(function(){\n",
       "                            \n",
       "var gd = document.getElementById('dc267286-6699-4bb1-b766-f81a46d7daea');\n",
       "var x = new MutationObserver(function (mutations, observer) {{\n",
       "        var display = window.getComputedStyle(gd).display;\n",
       "        if (!display || display === 'none') {{\n",
       "            console.log([gd, 'removed!']);\n",
       "            Plotly.purge(gd);\n",
       "            observer.disconnect();\n",
       "        }}\n",
       "}});\n",
       "\n",
       "// Listen for the removal of the full notebook cells\n",
       "var notebookContainer = gd.closest('#notebook-container');\n",
       "if (notebookContainer) {{\n",
       "    x.observe(notebookContainer, {childList: true});\n",
       "}}\n",
       "\n",
       "// Listen for the clearing of the current output cell\n",
       "var outputEl = gd.closest('.output');\n",
       "if (outputEl) {{\n",
       "    x.observe(outputEl, {childList: true});\n",
       "}}\n",
       "\n",
       "                        })                };                });            </script>        </div>"
      ]
     },
     "metadata": {},
     "output_type": "display_data"
    }
   ],
   "source": [
    "# fixing the size of circle\n",
    "margin = country_df['Confirmed'].values.tolist()\n",
    "circel_range = interp1d([1, max(margin)], [0.2,12])\n",
    "circle_radius = circel_range(margin)\n",
    "\n",
    "# ploting the map\n",
    "fig = px.scatter_mapbox(country_df, lat=\"Lat\", lon=\"Long\", hover_name=\"Country\", hover_data=[\"Confirmed\", \"Deaths\", 'Recovered'],\n",
    "                        color_discrete_sequence=[\"#e60039\"], zoom=1.5, height=500, size_max=50, size=circle_radius)\n",
    "fig.update_layout(mapbox_style=\"open-street-map\", margin={\"r\":0,\"t\":0,\"l\":0,\"b\":0}, height=450)\n",
    "fig.show()"
   ]
  },
  {
   "cell_type": "code",
   "execution_count": null,
   "metadata": {},
   "outputs": [],
   "source": []
  },
  {
   "cell_type": "markdown",
   "metadata": {},
   "source": [
    "# Confirmed vs recovered"
   ]
  },
  {
   "cell_type": "code",
   "execution_count": 22,
   "metadata": {},
   "outputs": [
    {
     "data": {
      "application/vnd.plotly.v1+json": {
       "config": {
        "plotlyServerURL": "https://plot.ly"
       },
       "data": [
        {
         "marker": {
          "color": "rgb(100,20,205)"
         },
         "name": "Confirmed",
         "type": "bar",
         "x": [
          "US",
          "India",
          "Brazil",
          "Russia",
          "Argentina",
          "Spain",
          "Colombia",
          "France",
          "Peru",
          "Mexico"
         ],
         "y": [
          8275249,
          7651107,
          5273954,
          1438219,
          1018999,
          988322,
          974139,
          973275,
          874118,
          860714
         ]
        },
        {
         "marker": {
          "color": "red"
         },
         "name": "Recovered",
         "type": "bar",
         "x": [
          "US",
          "India",
          "Brazil",
          "Russia",
          "Argentina",
          "Spain",
          "Colombia",
          "France",
          "Peru",
          "Mexico"
         ],
         "y": [
          3295148,
          6795103,
          4526393,
          1091264,
          829647,
          150376,
          876731,
          110515,
          788494,
          730594
         ]
        }
       ],
       "layout": {
        "barmode": "group",
        "height": 600,
        "template": {
         "data": {
          "bar": [
           {
            "error_x": {
             "color": "#2a3f5f"
            },
            "error_y": {
             "color": "#2a3f5f"
            },
            "marker": {
             "line": {
              "color": "#E5ECF6",
              "width": 0.5
             }
            },
            "type": "bar"
           }
          ],
          "barpolar": [
           {
            "marker": {
             "line": {
              "color": "#E5ECF6",
              "width": 0.5
             }
            },
            "type": "barpolar"
           }
          ],
          "carpet": [
           {
            "aaxis": {
             "endlinecolor": "#2a3f5f",
             "gridcolor": "white",
             "linecolor": "white",
             "minorgridcolor": "white",
             "startlinecolor": "#2a3f5f"
            },
            "baxis": {
             "endlinecolor": "#2a3f5f",
             "gridcolor": "white",
             "linecolor": "white",
             "minorgridcolor": "white",
             "startlinecolor": "#2a3f5f"
            },
            "type": "carpet"
           }
          ],
          "choropleth": [
           {
            "colorbar": {
             "outlinewidth": 0,
             "ticks": ""
            },
            "type": "choropleth"
           }
          ],
          "contour": [
           {
            "colorbar": {
             "outlinewidth": 0,
             "ticks": ""
            },
            "colorscale": [
             [
              0,
              "#0d0887"
             ],
             [
              0.1111111111111111,
              "#46039f"
             ],
             [
              0.2222222222222222,
              "#7201a8"
             ],
             [
              0.3333333333333333,
              "#9c179e"
             ],
             [
              0.4444444444444444,
              "#bd3786"
             ],
             [
              0.5555555555555556,
              "#d8576b"
             ],
             [
              0.6666666666666666,
              "#ed7953"
             ],
             [
              0.7777777777777778,
              "#fb9f3a"
             ],
             [
              0.8888888888888888,
              "#fdca26"
             ],
             [
              1,
              "#f0f921"
             ]
            ],
            "type": "contour"
           }
          ],
          "contourcarpet": [
           {
            "colorbar": {
             "outlinewidth": 0,
             "ticks": ""
            },
            "type": "contourcarpet"
           }
          ],
          "heatmap": [
           {
            "colorbar": {
             "outlinewidth": 0,
             "ticks": ""
            },
            "colorscale": [
             [
              0,
              "#0d0887"
             ],
             [
              0.1111111111111111,
              "#46039f"
             ],
             [
              0.2222222222222222,
              "#7201a8"
             ],
             [
              0.3333333333333333,
              "#9c179e"
             ],
             [
              0.4444444444444444,
              "#bd3786"
             ],
             [
              0.5555555555555556,
              "#d8576b"
             ],
             [
              0.6666666666666666,
              "#ed7953"
             ],
             [
              0.7777777777777778,
              "#fb9f3a"
             ],
             [
              0.8888888888888888,
              "#fdca26"
             ],
             [
              1,
              "#f0f921"
             ]
            ],
            "type": "heatmap"
           }
          ],
          "heatmapgl": [
           {
            "colorbar": {
             "outlinewidth": 0,
             "ticks": ""
            },
            "colorscale": [
             [
              0,
              "#0d0887"
             ],
             [
              0.1111111111111111,
              "#46039f"
             ],
             [
              0.2222222222222222,
              "#7201a8"
             ],
             [
              0.3333333333333333,
              "#9c179e"
             ],
             [
              0.4444444444444444,
              "#bd3786"
             ],
             [
              0.5555555555555556,
              "#d8576b"
             ],
             [
              0.6666666666666666,
              "#ed7953"
             ],
             [
              0.7777777777777778,
              "#fb9f3a"
             ],
             [
              0.8888888888888888,
              "#fdca26"
             ],
             [
              1,
              "#f0f921"
             ]
            ],
            "type": "heatmapgl"
           }
          ],
          "histogram": [
           {
            "marker": {
             "colorbar": {
              "outlinewidth": 0,
              "ticks": ""
             }
            },
            "type": "histogram"
           }
          ],
          "histogram2d": [
           {
            "colorbar": {
             "outlinewidth": 0,
             "ticks": ""
            },
            "colorscale": [
             [
              0,
              "#0d0887"
             ],
             [
              0.1111111111111111,
              "#46039f"
             ],
             [
              0.2222222222222222,
              "#7201a8"
             ],
             [
              0.3333333333333333,
              "#9c179e"
             ],
             [
              0.4444444444444444,
              "#bd3786"
             ],
             [
              0.5555555555555556,
              "#d8576b"
             ],
             [
              0.6666666666666666,
              "#ed7953"
             ],
             [
              0.7777777777777778,
              "#fb9f3a"
             ],
             [
              0.8888888888888888,
              "#fdca26"
             ],
             [
              1,
              "#f0f921"
             ]
            ],
            "type": "histogram2d"
           }
          ],
          "histogram2dcontour": [
           {
            "colorbar": {
             "outlinewidth": 0,
             "ticks": ""
            },
            "colorscale": [
             [
              0,
              "#0d0887"
             ],
             [
              0.1111111111111111,
              "#46039f"
             ],
             [
              0.2222222222222222,
              "#7201a8"
             ],
             [
              0.3333333333333333,
              "#9c179e"
             ],
             [
              0.4444444444444444,
              "#bd3786"
             ],
             [
              0.5555555555555556,
              "#d8576b"
             ],
             [
              0.6666666666666666,
              "#ed7953"
             ],
             [
              0.7777777777777778,
              "#fb9f3a"
             ],
             [
              0.8888888888888888,
              "#fdca26"
             ],
             [
              1,
              "#f0f921"
             ]
            ],
            "type": "histogram2dcontour"
           }
          ],
          "mesh3d": [
           {
            "colorbar": {
             "outlinewidth": 0,
             "ticks": ""
            },
            "type": "mesh3d"
           }
          ],
          "parcoords": [
           {
            "line": {
             "colorbar": {
              "outlinewidth": 0,
              "ticks": ""
             }
            },
            "type": "parcoords"
           }
          ],
          "pie": [
           {
            "automargin": true,
            "type": "pie"
           }
          ],
          "scatter": [
           {
            "marker": {
             "colorbar": {
              "outlinewidth": 0,
              "ticks": ""
             }
            },
            "type": "scatter"
           }
          ],
          "scatter3d": [
           {
            "line": {
             "colorbar": {
              "outlinewidth": 0,
              "ticks": ""
             }
            },
            "marker": {
             "colorbar": {
              "outlinewidth": 0,
              "ticks": ""
             }
            },
            "type": "scatter3d"
           }
          ],
          "scattercarpet": [
           {
            "marker": {
             "colorbar": {
              "outlinewidth": 0,
              "ticks": ""
             }
            },
            "type": "scattercarpet"
           }
          ],
          "scattergeo": [
           {
            "marker": {
             "colorbar": {
              "outlinewidth": 0,
              "ticks": ""
             }
            },
            "type": "scattergeo"
           }
          ],
          "scattergl": [
           {
            "marker": {
             "colorbar": {
              "outlinewidth": 0,
              "ticks": ""
             }
            },
            "type": "scattergl"
           }
          ],
          "scattermapbox": [
           {
            "marker": {
             "colorbar": {
              "outlinewidth": 0,
              "ticks": ""
             }
            },
            "type": "scattermapbox"
           }
          ],
          "scatterpolar": [
           {
            "marker": {
             "colorbar": {
              "outlinewidth": 0,
              "ticks": ""
             }
            },
            "type": "scatterpolar"
           }
          ],
          "scatterpolargl": [
           {
            "marker": {
             "colorbar": {
              "outlinewidth": 0,
              "ticks": ""
             }
            },
            "type": "scatterpolargl"
           }
          ],
          "scatterternary": [
           {
            "marker": {
             "colorbar": {
              "outlinewidth": 0,
              "ticks": ""
             }
            },
            "type": "scatterternary"
           }
          ],
          "surface": [
           {
            "colorbar": {
             "outlinewidth": 0,
             "ticks": ""
            },
            "colorscale": [
             [
              0,
              "#0d0887"
             ],
             [
              0.1111111111111111,
              "#46039f"
             ],
             [
              0.2222222222222222,
              "#7201a8"
             ],
             [
              0.3333333333333333,
              "#9c179e"
             ],
             [
              0.4444444444444444,
              "#bd3786"
             ],
             [
              0.5555555555555556,
              "#d8576b"
             ],
             [
              0.6666666666666666,
              "#ed7953"
             ],
             [
              0.7777777777777778,
              "#fb9f3a"
             ],
             [
              0.8888888888888888,
              "#fdca26"
             ],
             [
              1,
              "#f0f921"
             ]
            ],
            "type": "surface"
           }
          ],
          "table": [
           {
            "cells": {
             "fill": {
              "color": "#EBF0F8"
             },
             "line": {
              "color": "white"
             }
            },
            "header": {
             "fill": {
              "color": "#C8D4E3"
             },
             "line": {
              "color": "white"
             }
            },
            "type": "table"
           }
          ]
         },
         "layout": {
          "annotationdefaults": {
           "arrowcolor": "#2a3f5f",
           "arrowhead": 0,
           "arrowwidth": 1
          },
          "coloraxis": {
           "colorbar": {
            "outlinewidth": 0,
            "ticks": ""
           }
          },
          "colorscale": {
           "diverging": [
            [
             0,
             "#8e0152"
            ],
            [
             0.1,
             "#c51b7d"
            ],
            [
             0.2,
             "#de77ae"
            ],
            [
             0.3,
             "#f1b6da"
            ],
            [
             0.4,
             "#fde0ef"
            ],
            [
             0.5,
             "#f7f7f7"
            ],
            [
             0.6,
             "#e6f5d0"
            ],
            [
             0.7,
             "#b8e186"
            ],
            [
             0.8,
             "#7fbc41"
            ],
            [
             0.9,
             "#4d9221"
            ],
            [
             1,
             "#276419"
            ]
           ],
           "sequential": [
            [
             0,
             "#0d0887"
            ],
            [
             0.1111111111111111,
             "#46039f"
            ],
            [
             0.2222222222222222,
             "#7201a8"
            ],
            [
             0.3333333333333333,
             "#9c179e"
            ],
            [
             0.4444444444444444,
             "#bd3786"
            ],
            [
             0.5555555555555556,
             "#d8576b"
            ],
            [
             0.6666666666666666,
             "#ed7953"
            ],
            [
             0.7777777777777778,
             "#fb9f3a"
            ],
            [
             0.8888888888888888,
             "#fdca26"
            ],
            [
             1,
             "#f0f921"
            ]
           ],
           "sequentialminus": [
            [
             0,
             "#0d0887"
            ],
            [
             0.1111111111111111,
             "#46039f"
            ],
            [
             0.2222222222222222,
             "#7201a8"
            ],
            [
             0.3333333333333333,
             "#9c179e"
            ],
            [
             0.4444444444444444,
             "#bd3786"
            ],
            [
             0.5555555555555556,
             "#d8576b"
            ],
            [
             0.6666666666666666,
             "#ed7953"
            ],
            [
             0.7777777777777778,
             "#fb9f3a"
            ],
            [
             0.8888888888888888,
             "#fdca26"
            ],
            [
             1,
             "#f0f921"
            ]
           ]
          },
          "colorway": [
           "#636efa",
           "#EF553B",
           "#00cc96",
           "#ab63fa",
           "#FFA15A",
           "#19d3f3",
           "#FF6692",
           "#B6E880",
           "#FF97FF",
           "#FECB52"
          ],
          "font": {
           "color": "#2a3f5f"
          },
          "geo": {
           "bgcolor": "white",
           "lakecolor": "white",
           "landcolor": "#E5ECF6",
           "showlakes": true,
           "showland": true,
           "subunitcolor": "white"
          },
          "hoverlabel": {
           "align": "left"
          },
          "hovermode": "closest",
          "mapbox": {
           "style": "light"
          },
          "paper_bgcolor": "white",
          "plot_bgcolor": "#E5ECF6",
          "polar": {
           "angularaxis": {
            "gridcolor": "white",
            "linecolor": "white",
            "ticks": ""
           },
           "bgcolor": "#E5ECF6",
           "radialaxis": {
            "gridcolor": "white",
            "linecolor": "white",
            "ticks": ""
           }
          },
          "scene": {
           "xaxis": {
            "backgroundcolor": "#E5ECF6",
            "gridcolor": "white",
            "gridwidth": 2,
            "linecolor": "white",
            "showbackground": true,
            "ticks": "",
            "zerolinecolor": "white"
           },
           "yaxis": {
            "backgroundcolor": "#E5ECF6",
            "gridcolor": "white",
            "gridwidth": 2,
            "linecolor": "white",
            "showbackground": true,
            "ticks": "",
            "zerolinecolor": "white"
           },
           "zaxis": {
            "backgroundcolor": "#E5ECF6",
            "gridcolor": "white",
            "gridwidth": 2,
            "linecolor": "white",
            "showbackground": true,
            "ticks": "",
            "zerolinecolor": "white"
           }
          },
          "shapedefaults": {
           "line": {
            "color": "#2a3f5f"
           }
          },
          "ternary": {
           "aaxis": {
            "gridcolor": "white",
            "linecolor": "white",
            "ticks": ""
           },
           "baxis": {
            "gridcolor": "white",
            "linecolor": "white",
            "ticks": ""
           },
           "bgcolor": "#E5ECF6",
           "caxis": {
            "gridcolor": "white",
            "linecolor": "white",
            "ticks": ""
           }
          },
          "title": {
           "x": 0.05
          },
          "xaxis": {
           "automargin": true,
           "gridcolor": "white",
           "linecolor": "white",
           "ticks": "",
           "title": {
            "standoff": 15
           },
           "zerolinecolor": "white",
           "zerolinewidth": 2
          },
          "yaxis": {
           "automargin": true,
           "gridcolor": "white",
           "linecolor": "white",
           "ticks": "",
           "title": {
            "standoff": 15
           },
           "zerolinecolor": "white",
           "zerolinewidth": 2
          }
         }
        },
        "title": {
         "text": "Top 10 countires with Confirmed and Recovered case"
        }
       }
      },
      "text/html": [
       "<div>                            <div id=\"bacaac63-e88f-4426-a714-7318d8325316\" class=\"plotly-graph-div\" style=\"height:600px; width:100%;\"></div>            <script type=\"text/javascript\">                require([\"plotly\"], function(Plotly) {                    window.PLOTLYENV=window.PLOTLYENV || {};                                    if (document.getElementById(\"bacaac63-e88f-4426-a714-7318d8325316\")) {                    Plotly.newPlot(                        \"bacaac63-e88f-4426-a714-7318d8325316\",                        [{\"marker\": {\"color\": \"rgb(100,20,205)\"}, \"name\": \"Confirmed\", \"type\": \"bar\", \"x\": [\"US\", \"India\", \"Brazil\", \"Russia\", \"Argentina\", \"Spain\", \"Colombia\", \"France\", \"Peru\", \"Mexico\"], \"y\": [8275249.0, 7651107.0, 5273954.0, 1438219.0, 1018999.0, 988322.0, 974139.0, 973275.0, 874118.0, 860714.0]}, {\"marker\": {\"color\": \"red\"}, \"name\": \"Recovered\", \"type\": \"bar\", \"x\": [\"US\", \"India\", \"Brazil\", \"Russia\", \"Argentina\", \"Spain\", \"Colombia\", \"France\", \"Peru\", \"Mexico\"], \"y\": [3295148.0, 6795103.0, 4526393.0, 1091264.0, 829647.0, 150376.0, 876731.0, 110515.0, 788494.0, 730594.0]}],                        {\"barmode\": \"group\", \"height\": 600, \"template\": {\"data\": {\"bar\": [{\"error_x\": {\"color\": \"#2a3f5f\"}, \"error_y\": {\"color\": \"#2a3f5f\"}, \"marker\": {\"line\": {\"color\": \"#E5ECF6\", \"width\": 0.5}}, \"type\": \"bar\"}], \"barpolar\": [{\"marker\": {\"line\": {\"color\": \"#E5ECF6\", \"width\": 0.5}}, \"type\": \"barpolar\"}], \"carpet\": [{\"aaxis\": {\"endlinecolor\": \"#2a3f5f\", \"gridcolor\": \"white\", \"linecolor\": \"white\", \"minorgridcolor\": \"white\", \"startlinecolor\": \"#2a3f5f\"}, \"baxis\": {\"endlinecolor\": \"#2a3f5f\", \"gridcolor\": \"white\", \"linecolor\": \"white\", \"minorgridcolor\": \"white\", \"startlinecolor\": \"#2a3f5f\"}, \"type\": \"carpet\"}], \"choropleth\": [{\"colorbar\": {\"outlinewidth\": 0, \"ticks\": \"\"}, \"type\": \"choropleth\"}], \"contour\": [{\"colorbar\": {\"outlinewidth\": 0, \"ticks\": \"\"}, \"colorscale\": [[0.0, \"#0d0887\"], [0.1111111111111111, \"#46039f\"], [0.2222222222222222, \"#7201a8\"], [0.3333333333333333, \"#9c179e\"], [0.4444444444444444, \"#bd3786\"], [0.5555555555555556, \"#d8576b\"], [0.6666666666666666, \"#ed7953\"], [0.7777777777777778, \"#fb9f3a\"], [0.8888888888888888, \"#fdca26\"], [1.0, \"#f0f921\"]], \"type\": \"contour\"}], \"contourcarpet\": [{\"colorbar\": {\"outlinewidth\": 0, \"ticks\": \"\"}, \"type\": \"contourcarpet\"}], \"heatmap\": [{\"colorbar\": {\"outlinewidth\": 0, \"ticks\": \"\"}, \"colorscale\": [[0.0, \"#0d0887\"], [0.1111111111111111, \"#46039f\"], [0.2222222222222222, \"#7201a8\"], [0.3333333333333333, \"#9c179e\"], [0.4444444444444444, \"#bd3786\"], [0.5555555555555556, \"#d8576b\"], [0.6666666666666666, \"#ed7953\"], [0.7777777777777778, \"#fb9f3a\"], [0.8888888888888888, \"#fdca26\"], [1.0, \"#f0f921\"]], \"type\": \"heatmap\"}], \"heatmapgl\": [{\"colorbar\": {\"outlinewidth\": 0, \"ticks\": \"\"}, \"colorscale\": [[0.0, \"#0d0887\"], [0.1111111111111111, \"#46039f\"], [0.2222222222222222, \"#7201a8\"], [0.3333333333333333, \"#9c179e\"], [0.4444444444444444, \"#bd3786\"], [0.5555555555555556, \"#d8576b\"], [0.6666666666666666, \"#ed7953\"], [0.7777777777777778, \"#fb9f3a\"], [0.8888888888888888, \"#fdca26\"], [1.0, \"#f0f921\"]], \"type\": \"heatmapgl\"}], \"histogram\": [{\"marker\": {\"colorbar\": {\"outlinewidth\": 0, \"ticks\": \"\"}}, \"type\": \"histogram\"}], \"histogram2d\": [{\"colorbar\": {\"outlinewidth\": 0, \"ticks\": \"\"}, \"colorscale\": [[0.0, \"#0d0887\"], [0.1111111111111111, \"#46039f\"], [0.2222222222222222, \"#7201a8\"], [0.3333333333333333, \"#9c179e\"], [0.4444444444444444, \"#bd3786\"], [0.5555555555555556, \"#d8576b\"], [0.6666666666666666, \"#ed7953\"], [0.7777777777777778, \"#fb9f3a\"], [0.8888888888888888, \"#fdca26\"], [1.0, \"#f0f921\"]], \"type\": \"histogram2d\"}], \"histogram2dcontour\": [{\"colorbar\": {\"outlinewidth\": 0, \"ticks\": \"\"}, \"colorscale\": [[0.0, \"#0d0887\"], [0.1111111111111111, \"#46039f\"], [0.2222222222222222, \"#7201a8\"], [0.3333333333333333, \"#9c179e\"], [0.4444444444444444, \"#bd3786\"], [0.5555555555555556, \"#d8576b\"], [0.6666666666666666, \"#ed7953\"], [0.7777777777777778, \"#fb9f3a\"], [0.8888888888888888, \"#fdca26\"], [1.0, \"#f0f921\"]], \"type\": \"histogram2dcontour\"}], \"mesh3d\": [{\"colorbar\": {\"outlinewidth\": 0, \"ticks\": \"\"}, \"type\": \"mesh3d\"}], \"parcoords\": [{\"line\": {\"colorbar\": {\"outlinewidth\": 0, \"ticks\": \"\"}}, \"type\": \"parcoords\"}], \"pie\": [{\"automargin\": true, \"type\": \"pie\"}], \"scatter\": [{\"marker\": {\"colorbar\": {\"outlinewidth\": 0, \"ticks\": \"\"}}, \"type\": \"scatter\"}], \"scatter3d\": [{\"line\": {\"colorbar\": {\"outlinewidth\": 0, \"ticks\": \"\"}}, \"marker\": {\"colorbar\": {\"outlinewidth\": 0, \"ticks\": \"\"}}, \"type\": \"scatter3d\"}], \"scattercarpet\": [{\"marker\": {\"colorbar\": {\"outlinewidth\": 0, \"ticks\": \"\"}}, \"type\": \"scattercarpet\"}], \"scattergeo\": [{\"marker\": {\"colorbar\": {\"outlinewidth\": 0, \"ticks\": \"\"}}, \"type\": \"scattergeo\"}], \"scattergl\": [{\"marker\": {\"colorbar\": {\"outlinewidth\": 0, \"ticks\": \"\"}}, \"type\": \"scattergl\"}], \"scattermapbox\": [{\"marker\": {\"colorbar\": {\"outlinewidth\": 0, \"ticks\": \"\"}}, \"type\": \"scattermapbox\"}], \"scatterpolar\": [{\"marker\": {\"colorbar\": {\"outlinewidth\": 0, \"ticks\": \"\"}}, \"type\": \"scatterpolar\"}], \"scatterpolargl\": [{\"marker\": {\"colorbar\": {\"outlinewidth\": 0, \"ticks\": \"\"}}, \"type\": \"scatterpolargl\"}], \"scatterternary\": [{\"marker\": {\"colorbar\": {\"outlinewidth\": 0, \"ticks\": \"\"}}, \"type\": \"scatterternary\"}], \"surface\": [{\"colorbar\": {\"outlinewidth\": 0, \"ticks\": \"\"}, \"colorscale\": [[0.0, \"#0d0887\"], [0.1111111111111111, \"#46039f\"], [0.2222222222222222, \"#7201a8\"], [0.3333333333333333, \"#9c179e\"], [0.4444444444444444, \"#bd3786\"], [0.5555555555555556, \"#d8576b\"], [0.6666666666666666, \"#ed7953\"], [0.7777777777777778, \"#fb9f3a\"], [0.8888888888888888, \"#fdca26\"], [1.0, \"#f0f921\"]], \"type\": \"surface\"}], \"table\": [{\"cells\": {\"fill\": {\"color\": \"#EBF0F8\"}, \"line\": {\"color\": \"white\"}}, \"header\": {\"fill\": {\"color\": \"#C8D4E3\"}, \"line\": {\"color\": \"white\"}}, \"type\": \"table\"}]}, \"layout\": {\"annotationdefaults\": {\"arrowcolor\": \"#2a3f5f\", \"arrowhead\": 0, \"arrowwidth\": 1}, \"coloraxis\": {\"colorbar\": {\"outlinewidth\": 0, \"ticks\": \"\"}}, \"colorscale\": {\"diverging\": [[0, \"#8e0152\"], [0.1, \"#c51b7d\"], [0.2, \"#de77ae\"], [0.3, \"#f1b6da\"], [0.4, \"#fde0ef\"], [0.5, \"#f7f7f7\"], [0.6, \"#e6f5d0\"], [0.7, \"#b8e186\"], [0.8, \"#7fbc41\"], [0.9, \"#4d9221\"], [1, \"#276419\"]], \"sequential\": [[0.0, \"#0d0887\"], [0.1111111111111111, \"#46039f\"], [0.2222222222222222, \"#7201a8\"], [0.3333333333333333, \"#9c179e\"], [0.4444444444444444, \"#bd3786\"], [0.5555555555555556, \"#d8576b\"], [0.6666666666666666, \"#ed7953\"], [0.7777777777777778, \"#fb9f3a\"], [0.8888888888888888, \"#fdca26\"], [1.0, \"#f0f921\"]], \"sequentialminus\": [[0.0, \"#0d0887\"], [0.1111111111111111, \"#46039f\"], [0.2222222222222222, \"#7201a8\"], [0.3333333333333333, \"#9c179e\"], [0.4444444444444444, \"#bd3786\"], [0.5555555555555556, \"#d8576b\"], [0.6666666666666666, \"#ed7953\"], [0.7777777777777778, \"#fb9f3a\"], [0.8888888888888888, \"#fdca26\"], [1.0, \"#f0f921\"]]}, \"colorway\": [\"#636efa\", \"#EF553B\", \"#00cc96\", \"#ab63fa\", \"#FFA15A\", \"#19d3f3\", \"#FF6692\", \"#B6E880\", \"#FF97FF\", \"#FECB52\"], \"font\": {\"color\": \"#2a3f5f\"}, \"geo\": {\"bgcolor\": \"white\", \"lakecolor\": \"white\", \"landcolor\": \"#E5ECF6\", \"showlakes\": true, \"showland\": true, \"subunitcolor\": \"white\"}, \"hoverlabel\": {\"align\": \"left\"}, \"hovermode\": \"closest\", \"mapbox\": {\"style\": \"light\"}, \"paper_bgcolor\": \"white\", \"plot_bgcolor\": \"#E5ECF6\", \"polar\": {\"angularaxis\": {\"gridcolor\": \"white\", \"linecolor\": \"white\", \"ticks\": \"\"}, \"bgcolor\": \"#E5ECF6\", \"radialaxis\": {\"gridcolor\": \"white\", \"linecolor\": \"white\", \"ticks\": \"\"}}, \"scene\": {\"xaxis\": {\"backgroundcolor\": \"#E5ECF6\", \"gridcolor\": \"white\", \"gridwidth\": 2, \"linecolor\": \"white\", \"showbackground\": true, \"ticks\": \"\", \"zerolinecolor\": \"white\"}, \"yaxis\": {\"backgroundcolor\": \"#E5ECF6\", \"gridcolor\": \"white\", \"gridwidth\": 2, \"linecolor\": \"white\", \"showbackground\": true, \"ticks\": \"\", \"zerolinecolor\": \"white\"}, \"zaxis\": {\"backgroundcolor\": \"#E5ECF6\", \"gridcolor\": \"white\", \"gridwidth\": 2, \"linecolor\": \"white\", \"showbackground\": true, \"ticks\": \"\", \"zerolinecolor\": \"white\"}}, \"shapedefaults\": {\"line\": {\"color\": \"#2a3f5f\"}}, \"ternary\": {\"aaxis\": {\"gridcolor\": \"white\", \"linecolor\": \"white\", \"ticks\": \"\"}, \"baxis\": {\"gridcolor\": \"white\", \"linecolor\": \"white\", \"ticks\": \"\"}, \"bgcolor\": \"#E5ECF6\", \"caxis\": {\"gridcolor\": \"white\", \"linecolor\": \"white\", \"ticks\": \"\"}}, \"title\": {\"x\": 0.05}, \"xaxis\": {\"automargin\": true, \"gridcolor\": \"white\", \"linecolor\": \"white\", \"ticks\": \"\", \"title\": {\"standoff\": 15}, \"zerolinecolor\": \"white\", \"zerolinewidth\": 2}, \"yaxis\": {\"automargin\": true, \"gridcolor\": \"white\", \"linecolor\": \"white\", \"ticks\": \"\", \"title\": {\"standoff\": 15}, \"zerolinecolor\": \"white\", \"zerolinewidth\": 2}}}, \"title\": {\"text\": \"Top 10 countires with Confirmed and Recovered case\"}},                        {\"responsive\": true}                    ).then(function(){\n",
       "                            \n",
       "var gd = document.getElementById('bacaac63-e88f-4426-a714-7318d8325316');\n",
       "var x = new MutationObserver(function (mutations, observer) {{\n",
       "        var display = window.getComputedStyle(gd).display;\n",
       "        if (!display || display === 'none') {{\n",
       "            console.log([gd, 'removed!']);\n",
       "            Plotly.purge(gd);\n",
       "            observer.disconnect();\n",
       "        }}\n",
       "}});\n",
       "\n",
       "// Listen for the removal of the full notebook cells\n",
       "var notebookContainer = gd.closest('#notebook-container');\n",
       "if (notebookContainer) {{\n",
       "    x.observe(notebookContainer, {childList: true});\n",
       "}}\n",
       "\n",
       "// Listen for the clearing of the current output cell\n",
       "var outputEl = gd.closest('.output');\n",
       "if (outputEl) {{\n",
       "    x.observe(outputEl, {childList: true});\n",
       "}}\n",
       "\n",
       "                        })                };                });            </script>        </div>"
      ]
     },
     "metadata": {},
     "output_type": "display_data"
    }
   ],
   "source": [
    "# confirmed and recovred cases\n",
    "\n",
    "top_country = country_df.head(10)\n",
    "top_country_name = list(top_country['Country'].values)\n",
    "\n",
    "fig = go.Figure(data=[\n",
    "    go.Bar(name='Confirmed',marker_color='rgb(100,20,205)', x=top_country_name, y=list(top_country['Confirmed'])),\n",
    "    go.Bar(name='Recovered', marker_color='red',x=top_country_name, y=list(top_country['Recovered'])),\n",
    "])\n",
    "\n",
    "# Change the bar mode\n",
    "fig.update_layout(barmode='group', height=600, title_text=\"Top 10 countires with Confirmed and Recovered case\")\n",
    "fig.show()"
   ]
  },
  {
   "cell_type": "code",
   "execution_count": null,
   "metadata": {},
   "outputs": [],
   "source": []
  },
  {
   "cell_type": "code",
   "execution_count": null,
   "metadata": {},
   "outputs": [],
   "source": []
  }
 ],
 "metadata": {
  "kernelspec": {
   "display_name": "Python 3",
   "language": "python",
   "name": "python3"
  },
  "language_info": {
   "codemirror_mode": {
    "name": "ipython",
    "version": 3
   },
   "file_extension": ".py",
   "mimetype": "text/x-python",
   "name": "python",
   "nbconvert_exporter": "python",
   "pygments_lexer": "ipython3",
   "version": "3.8.6"
  }
 },
 "nbformat": 4,
 "nbformat_minor": 4
}
